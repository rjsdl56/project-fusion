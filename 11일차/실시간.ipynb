{
 "cells": [
  {
   "cell_type": "markdown",
   "metadata": {},
   "source": [
    "# 실시간"
   ]
  },
  {
   "cell_type": "code",
   "execution_count": null,
   "metadata": {},
   "outputs": [],
   "source": [
    "# 참고 사이트\n",
    "\n",
    "## 수집 파트\n",
    "# https://tariat.tistory.com/892?category=678887    실시간 데이터 수집 // urllib모듈을 이용\n",
    "# https://kyle79.tistory.com/52       스파크 스트리밍\n",
    "# https://stackoverrun.com/ko/q/6062203     실시간 아두이노 데이터 판단 (심전도)\n",
    "# https://blog.naver.com/gys24/221503031547 심전도 데이터\n",
    "\n",
    "\n",
    "# 아두이노와 파이썬 연결 // 이거 너무 어렵잖아!\n",
    "# https://blog.naver.com/jdkim2004/222121948180\n",
    "# https://python-arduino-serial.readthedocs.io/en/latest/\n",
    "# http://egloos.zum.com/sman944/v/3090977\n",
    "\n",
    "# 라즈베리파이 연결\n",
    "# https://blog.naver.com/zeta0807/222144886241\n",
    "\n",
    "\n",
    "## 그래프 파트\n",
    "# https://lovit.github.io/visualization/2019/11/22/seaborn_tutorial/     단순설명\n",
    "\n",
    "# https://www.delftstack.com/ko/howto/matplotlib/how-to-plot-in-real-time-using-matplotlib/\n",
    "# https://muzukphysics.tistory.com/301 # 이게 그나마 현실적?\n",
    "# https://cafe.naver.com/carroty/345147 # 이건 주호한테 물어봐야 함\n",
    "# https://www.crocus.co.kr/1398  // 이건 데이터를 주호한테 받고 나서 시도해보자\n"
   ]
  },
  {
   "cell_type": "code",
   "execution_count": null,
   "metadata": {},
   "outputs": [],
   "source": [
    "import numpy as np\n",
    "import matplotlib.pyplot as plt\n",
    "\n",
    "# 파이썬 실시간 그래프 그리기\n",
    "x = 0\n",
    "for i in range(1000):\n",
    "    x = x + 0.1\n",
    "    y = np.sin(x)\n",
    "\n",
    "    plt.scatter(x,y)\n",
    "    plt.pause(0.001)\n",
    "\n",
    "plt.show()"
   ]
  },
  {
   "cell_type": "code",
   "execution_count": null,
   "metadata": {},
   "outputs": [],
   "source": [
    "# 여기서부터는 다른 블로그 내용"
   ]
  },
  {
   "cell_type": "code",
   "execution_count": null,
   "metadata": {},
   "outputs": [],
   "source": [
    "# matplotlib.animation.FuncAnimation(fig, \n",
    "#                                    func, \n",
    "#                                    frames=None,\n",
    "#                                    init_func=None, \n",
    "#                                    fargs=None,\n",
    "#                                    save_count=None, \n",
    "#                                    *, \n",
    "#                                    cache_frame_data=True,\n",
    "#                                    **kwargs)"
   ]
  },
  {
   "cell_type": "code",
   "execution_count": null,
   "metadata": {},
   "outputs": [],
   "source": [
    "import numpy as np\n",
    "import matplotlib.pyplot as plt\n",
    "from matplotlib.animation import FuncAnimation\n",
    "import warnings\n",
    "warnings.filterwarnings(\"ignore\")\n",
    "\n",
    "x = []\n",
    "y = []\n",
    "\n",
    "figure, ax = plt.subplots(figsize=(8,5))\n",
    "line, = ax.plot(x, y)\n",
    "plt.axis([0, 4*np.pi, -1, 1])\n",
    "\n",
    "def func_animate(i):\n",
    "    x = np.linspace(0, 4*np.pi, 1000)\n",
    "    y = np.sin(2 * (x - 0.1 * i))\n",
    "    \n",
    "    line.set_data(x, y)\n",
    "    \n",
    "    return line,\n",
    "\n",
    "ani = FuncAnimation(figure,\n",
    "                    func_animate,\n",
    "                    frames=10,\n",
    "                    interval=50)\n",
    "\n",
    "ani.save(r'animation.gif', fps=10)\n",
    "\n",
    "plt.show()"
   ]
  },
  {
   "cell_type": "code",
   "execution_count": null,
   "metadata": {},
   "outputs": [],
   "source": [
    "# 아니 도대체 왜 따로 출력이 되는거야\n",
    "\n",
    "import numpy as np\n",
    "import matplotlib.pyplot as plt\n",
    "x=0\n",
    "for i in range(5):\n",
    "    x=x+0.04\n",
    "    y = np.sin(x)\n",
    "    plt.scatter(x, y)\n",
    "    plt.title(\"Real Time plot\")\n",
    "    plt.xlabel(\"x\")\n",
    "    plt.ylabel(\"sinx\")\n",
    "    plt.pause(0.1)\n",
    "\n",
    "plt.show()"
   ]
  },
  {
   "cell_type": "code",
   "execution_count": null,
   "metadata": {},
   "outputs": [],
   "source": []
  },
  {
   "cell_type": "markdown",
   "metadata": {},
   "source": [
    "# 여기는 아두이노 데이터를 받아다 실시간으로 처리하는 코드"
   ]
  },
  {
   "cell_type": "code",
   "execution_count": null,
   "metadata": {},
   "outputs": [],
   "source": [
    "# 심전도 데이터 판단\n",
    "\n",
    "from matplotlib.backends.backend_qt4agg import FigureCanvasQTAgg\n",
    "import matplotlib.figure as mfig\n",
    "import PyQt4.QtGui as gui, PyQt4.QtCore as core\n",
    "import collections\n",
    "import time\n",
    "import random\n",
    "\n",
    "import serial\n",
    "ser = serial.Serial('/dev/tty.usbmodem1411', 57600)\n",
    "\n",
    "start_byte = 'S'\n",
    "end_byte = 'F'\n",
    "\n",
    "\n",
    "refreshMillis = 50\n",
    "N = 200\n",
    "xs = collections.deque(maxlen=N)\n",
    "ys = collections.deque(maxlen=N)\n",
    "\n",
    "app = gui.QApplication([])\n",
    "\n",
    "fig = mfig.Figure()\n",
    "canvas = FigureCanvasQTAgg(fig)\n",
    "\n",
    "ax = fig.add_subplot(111)\n",
    "ax.set_ylim([0,5])\n",
    "line2D, = ax.plot(xs,ys)\n",
    "canvas.show()\n",
    "\n",
    "def process_line():\n",
    "\n",
    "       line = ser.readline()\n",
    "       data = map(float,line.split(\" \"))\n",
    "       xs.append(data[0])\n",
    "       ys.append(data[1])\n",
    "       line2D.set_data(xs,ys)\n",
    "       print data\n",
    "       xmin, xmax = min(xs),max(xs)\n",
    "       if xmin == xmax:\n",
    "           ax.set_xlim([xmin,xmin+1])\n",
    "       else:\n",
    "           ax.set_xlim([xmin,xmax])\n",
    "       canvas.draw()\n",
    "\n",
    "timer = core.QTimer()\n",
    "timer.timeout.connect(process_line)\n",
    "timer.start(refreshMillis)\n",
    "\n",
    "app.exec_()\n",
    "\n",
    "ser.flush()\n",
    "ser.close()"
   ]
  },
  {
   "cell_type": "code",
   "execution_count": null,
   "metadata": {},
   "outputs": [],
   "source": []
  },
  {
   "cell_type": "code",
   "execution_count": null,
   "metadata": {},
   "outputs": [],
   "source": []
  },
  {
   "cell_type": "code",
   "execution_count": null,
   "metadata": {},
   "outputs": [],
   "source": []
  },
  {
   "cell_type": "code",
   "execution_count": null,
   "metadata": {},
   "outputs": [],
   "source": []
  },
  {
   "cell_type": "code",
   "execution_count": null,
   "metadata": {},
   "outputs": [],
   "source": []
  },
  {
   "cell_type": "code",
   "execution_count": null,
   "metadata": {},
   "outputs": [],
   "source": []
  }
 ],
 "metadata": {
  "kernelspec": {
   "display_name": "pydatavenv",
   "language": "python",
   "name": "pydatavenv"
  },
  "language_info": {
   "codemirror_mode": {
    "name": "ipython",
    "version": 3
   },
   "file_extension": ".py",
   "mimetype": "text/x-python",
   "name": "python",
   "nbconvert_exporter": "python",
   "pygments_lexer": "ipython3",
   "version": "3.7.9"
  }
 },
 "nbformat": 4,
 "nbformat_minor": 4
}
