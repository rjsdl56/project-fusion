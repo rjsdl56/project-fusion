{
 "cells": [
  {
   "cell_type": "markdown",
   "metadata": {
    "id": "8sKLfHcuNUAn"
   },
   "source": [
    "## LIB"
   ]
  },
  {
   "cell_type": "code",
   "execution_count": null,
   "metadata": {
    "id": "SxzivO_9FDi9"
   },
   "outputs": [],
   "source": [
    "# !pip install google.cloud.speech"
   ]
  },
  {
   "cell_type": "code",
   "execution_count": 1,
   "metadata": {
    "id": "UDmvzUmCGYcK"
   },
   "outputs": [],
   "source": [
    "import os\n",
    "os.environ[\"GOOGLE_APPLICATION_CREDENTIALS\"]=\"/content/drive/MyDrive/Helricelus/test-heracelus-epf9-088e6dc92eba.json\"\n"
   ]
  },
  {
   "cell_type": "code",
   "execution_count": null,
   "metadata": {
    "id": "XwthtG9XE-eY"
   },
   "outputs": [],
   "source": [
    "# !pip install git+https://github.com/ssut/py-hanspell.git"
   ]
  },
  {
   "cell_type": "markdown",
   "metadata": {
    "id": "o_DfXkuYM9Mt"
   },
   "source": [
    "## STT"
   ]
  },
  {
   "cell_type": "code",
   "execution_count": null,
   "metadata": {
    "id": "irUHof0aNkH6"
   },
   "outputs": [],
   "source": [
    "path= \"/content/drive/MyDrive/Helricelus/voice/\"\n",
    "intent = \"배달완료\"\n",
    "file = \"2.wav\""
   ]
  },
  {
   "cell_type": "code",
   "execution_count": null,
   "metadata": {
    "id": "11m4nCL9E3su"
   },
   "outputs": [],
   "source": [
    "import io\n",
    "import os\n",
    "\n",
    "# Imports the Google Cloud client library\n",
    "from google.cloud import speech\n",
    "\n",
    "# Instantiates a client\n",
    "client = speech.SpeechClient()\n",
    "\n",
    "# The name of the audio file to transcribe\n",
    "file_name = os.path.join(os.path.dirname(path), intent, file)\n",
    "\n",
    "# Loads the audio into memory\n",
    "with io.open(file_name, \"rb\") as audio_file:\n",
    "    content = audio_file.read()\n",
    "    audio = speech.RecognitionAudio(content=content)\n",
    "\n",
    "config = speech.RecognitionConfig(\n",
    "    encoding=speech.RecognitionConfig.AudioEncoding.LINEAR16,\n",
    "    \n",
    "    ##음성파일 hertz\n",
    "    sample_rate_hertz=22050,\n",
    "    language_code=\"ko-KR\",\n",
    ")\n",
    "\n",
    "# Detects speech in the audio file\n",
    "response = client.recognize(config=config, audio=audio)\n",
    "\n",
    "for result in response.results:\n",
    "    print(\"Google STT Transcript: {}\".format(result.alternatives[0].transcript))\n",
    "\n",
    "\n",
    "from hanspell import spell_checker\n",
    "\n",
    "text = result.alternatives[0].transcript\n",
    "\n",
    "sent = text\n",
    "spelled_sent = spell_checker.check(sent)\n",
    "\n",
    "fixed_sent = spelled_sent.checked\n",
    "print(\"fixed_sent:{}\".format(fixed_sent))"
   ]
  },
  {
   "cell_type": "code",
   "execution_count": null,
   "metadata": {
    "id": "9KZ2kQbBOdvM"
   },
   "outputs": [],
   "source": []
  }
 ],
 "metadata": {
  "colab": {
   "collapsed_sections": [
    "8sKLfHcuNUAn"
   ],
   "name": "GoogleSTT + 후처리.ipynb",
   "private_outputs": true,
   "provenance": []
  },
  "kernelspec": {
   "display_name": "Python 3",
   "language": "python",
   "name": "python3"
  },
  "language_info": {
   "codemirror_mode": {
    "name": "ipython",
    "version": 3
   },
   "file_extension": ".py",
   "mimetype": "text/x-python",
   "name": "python",
   "nbconvert_exporter": "python",
   "pygments_lexer": "ipython3",
   "version": "3.8.3"
  }
 },
 "nbformat": 4,
 "nbformat_minor": 4
}
