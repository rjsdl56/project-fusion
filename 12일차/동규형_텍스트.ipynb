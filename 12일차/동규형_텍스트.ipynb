{
 "cells": [
  {
   "cell_type": "markdown",
   "metadata": {
    "id": "qlbKkYipU4Yl"
   },
   "source": [
    "# lib & load_data"
   ]
  },
  {
   "cell_type": "code",
   "execution_count": null,
   "metadata": {
    "id": "WxNNJLVzm2Jn"
   },
   "outputs": [],
   "source": [
    "# !pip install git+https://github.com/ssut/py-hanspell.git"
   ]
  },
  {
   "cell_type": "code",
   "execution_count": null,
   "metadata": {
    "id": "Xitqi1G-o7HF"
   },
   "outputs": [],
   "source": [
    "# !pip install konlpy"
   ]
  },
  {
   "cell_type": "code",
   "execution_count": 62,
   "metadata": {
    "id": "Cv54gM_7-3ui"
   },
   "outputs": [],
   "source": [
    "import numpy as np\n",
    "import pandas as pd\n",
    "import tensorflow as tf\n",
    "from tensorflow.keras.datasets import reuters\n",
    "%matplotlib inline\n",
    "import matplotlib.pyplot as plt\n",
    "import seaborn as sns\n",
    "from sklearn.model_selection import train_test_split\n",
    "from konlpy.tag import Okt, Kkma\n",
    "okt = Okt()\n",
    "kkma = Kkma()\n",
    "from tensorflow.keras.preprocessing.sequence import pad_sequences\n",
    "from tensorflow.keras.preprocessing.text import Tokenizer\n",
    "import re\n",
    "from hanspell import spell_checker"
   ]
  },
  {
   "cell_type": "code",
   "execution_count": 70,
   "metadata": {
    "id": "RzHmt72Qg_W0"
   },
   "outputs": [],
   "source": [
    "df_train = pd.read_csv(\"./data/text/train_data.csv\")\n",
    "df_test = pd.read_csv(\"./data/text/test_data.csv\")\n"
   ]
  },
  {
   "cell_type": "markdown",
   "metadata": {
    "id": "fkHBqJjpU7yD"
   },
   "source": [
    "# 전처리"
   ]
  },
  {
   "cell_type": "markdown",
   "metadata": {
    "id": "9GKIlxYKU_Yn"
   },
   "source": [
    "## 정규 표현식으로 치환\n",
    "분, 주문번호 변환"
   ]
  },
  {
   "cell_type": "code",
   "execution_count": 71,
   "metadata": {
    "id": "Q4iY6nV8hrx2"
   },
   "outputs": [],
   "source": [
    "# 정규표현식 함수 정의\n",
    "\n",
    "def re_sub(df):\n",
    "    convert_ls =[]\n",
    "    for idx in (df['text']):\n",
    "        idx = re.sub(\"\\d\\d\\d\\d\",\" @\",idx)\n",
    "        idx = re.sub(\"\\d\\d분\",\" #분\",idx)\n",
    "        \n",
    "        ## 띄어쓰기, 맞춤법\n",
    "        spelled_sent = spell_checker.check(idx)\n",
    "        hanspell_sent = spelled_sent.checked\n",
    "        \n",
    "        convert_ls.append(hanspell_sent)\n",
    "\n",
    "    convert_txt = pd.Series(convert_ls, name = 'convert_ls')\n",
    "    df = pd.concat([df,convert_txt],axis = 1)\n",
    "\n",
    "    return df"
   ]
  },
  {
   "cell_type": "code",
   "execution_count": 72,
   "metadata": {
    "id": "9WY-8mVhidQq"
   },
   "outputs": [
    {
     "data": {
      "text/html": [
       "<div>\n",
       "<style scoped>\n",
       "    .dataframe tbody tr th:only-of-type {\n",
       "        vertical-align: middle;\n",
       "    }\n",
       "\n",
       "    .dataframe tbody tr th {\n",
       "        vertical-align: top;\n",
       "    }\n",
       "\n",
       "    .dataframe thead th {\n",
       "        text-align: right;\n",
       "    }\n",
       "</style>\n",
       "<table border=\"1\" class=\"dataframe\">\n",
       "  <thead>\n",
       "    <tr style=\"text-align: right;\">\n",
       "      <th></th>\n",
       "      <th>text</th>\n",
       "      <th>intent</th>\n",
       "      <th>label</th>\n",
       "      <th>convert_ls</th>\n",
       "    </tr>\n",
       "  </thead>\n",
       "  <tbody>\n",
       "    <tr>\n",
       "      <th>120</th>\n",
       "      <td>배달끝났어</td>\n",
       "      <td>배달완료</td>\n",
       "      <td>6</td>\n",
       "      <td>배달 끝났어</td>\n",
       "    </tr>\n",
       "    <tr>\n",
       "      <th>121</th>\n",
       "      <td>음식배달완료</td>\n",
       "      <td>배달완료</td>\n",
       "      <td>6</td>\n",
       "      <td>음식 배달 완료</td>\n",
       "    </tr>\n",
       "    <tr>\n",
       "      <th>122</th>\n",
       "      <td>음식배달완료했어</td>\n",
       "      <td>배달완료</td>\n",
       "      <td>6</td>\n",
       "      <td>음식 배달 완료했어</td>\n",
       "    </tr>\n",
       "    <tr>\n",
       "      <th>123</th>\n",
       "      <td>음식배달끝냈어</td>\n",
       "      <td>배달완료</td>\n",
       "      <td>6</td>\n",
       "      <td>음식 배달 끝냈어</td>\n",
       "    </tr>\n",
       "    <tr>\n",
       "      <th>124</th>\n",
       "      <td>음식배달끝났어</td>\n",
       "      <td>배달완료</td>\n",
       "      <td>6</td>\n",
       "      <td>음식 배달 끝났어</td>\n",
       "    </tr>\n",
       "  </tbody>\n",
       "</table>\n",
       "</div>"
      ],
      "text/plain": [
       "         text intent  label  convert_ls\n",
       "120     배달끝났어   배달완료      6      배달 끝났어\n",
       "121    음식배달완료   배달완료      6    음식 배달 완료\n",
       "122  음식배달완료했어   배달완료      6  음식 배달 완료했어\n",
       "123   음식배달끝냈어   배달완료      6   음식 배달 끝냈어\n",
       "124   음식배달끝났어   배달완료      6   음식 배달 끝났어"
      ]
     },
     "metadata": {},
     "output_type": "display_data"
    },
    {
     "data": {
      "text/html": [
       "<div>\n",
       "<style scoped>\n",
       "    .dataframe tbody tr th:only-of-type {\n",
       "        vertical-align: middle;\n",
       "    }\n",
       "\n",
       "    .dataframe tbody tr th {\n",
       "        vertical-align: top;\n",
       "    }\n",
       "\n",
       "    .dataframe thead th {\n",
       "        text-align: right;\n",
       "    }\n",
       "</style>\n",
       "<table border=\"1\" class=\"dataframe\">\n",
       "  <thead>\n",
       "    <tr style=\"text-align: right;\">\n",
       "      <th></th>\n",
       "      <th>text</th>\n",
       "      <th>intent</th>\n",
       "      <th>label</th>\n",
       "      <th>convert_ls</th>\n",
       "    </tr>\n",
       "  </thead>\n",
       "  <tbody>\n",
       "    <tr>\n",
       "      <th>9</th>\n",
       "      <td>영수증 9893</td>\n",
       "      <td>영수증번호</td>\n",
       "      <td>4</td>\n",
       "      <td>영수증  @</td>\n",
       "    </tr>\n",
       "    <tr>\n",
       "      <th>10</th>\n",
       "      <td>10분후 도착</td>\n",
       "      <td>소요시간선택</td>\n",
       "      <td>5</td>\n",
       "      <td>#분 후 도착</td>\n",
       "    </tr>\n",
       "    <tr>\n",
       "      <th>11</th>\n",
       "      <td>20분후 도착</td>\n",
       "      <td>소요시간선택</td>\n",
       "      <td>5</td>\n",
       "      <td>#분 후 도착</td>\n",
       "    </tr>\n",
       "    <tr>\n",
       "      <th>12</th>\n",
       "      <td>배달끝</td>\n",
       "      <td>배달완료</td>\n",
       "      <td>6</td>\n",
       "      <td>배달 끝</td>\n",
       "    </tr>\n",
       "    <tr>\n",
       "      <th>13</th>\n",
       "      <td>배달완료</td>\n",
       "      <td>배달완료</td>\n",
       "      <td>6</td>\n",
       "      <td>배달 완료</td>\n",
       "    </tr>\n",
       "  </tbody>\n",
       "</table>\n",
       "</div>"
      ],
      "text/plain": [
       "        text  intent  label convert_ls\n",
       "9   영수증 9893   영수증번호      4     영수증  @\n",
       "10   10분후 도착  소요시간선택      5    #분 후 도착\n",
       "11   20분후 도착  소요시간선택      5    #분 후 도착\n",
       "12       배달끝    배달완료      6       배달 끝\n",
       "13      배달완료    배달완료      6      배달 완료"
      ]
     },
     "metadata": {},
     "output_type": "display_data"
    }
   ],
   "source": [
    "df_train = re_sub(df_train)\n",
    "df_test = re_sub(df_test)\n",
    "\n",
    "display(df_train.tail())\n",
    "display(df_test.tail())"
   ]
  },
  {
   "cell_type": "markdown",
   "metadata": {
    "id": "paXKMAtHdoqM"
   },
   "source": [
    "### train_data label 확인tail"
   ]
  },
  {
   "cell_type": "code",
   "execution_count": 66,
   "metadata": {
    "id": "TsPwdwU0ZA9m"
   },
   "outputs": [
    {
     "data": {
      "text/plain": [
       "array(['운행시작', '가게전화', '가게도착', '픽업완료', '영수증번호', '소요시간선택', '배달완료'],\n",
       "      dtype=object)"
      ]
     },
     "execution_count": 66,
     "metadata": {},
     "output_type": "execute_result"
    }
   ],
   "source": [
    "# label\n",
    "pd.Series.unique(df_train['intent'])"
   ]
  },
  {
   "cell_type": "markdown",
   "metadata": {
    "id": "Ao3cGm9EyXty"
   },
   "source": [
    "## 형태소로 분리 , df에 열로 추가"
   ]
  },
  {
   "cell_type": "markdown",
   "metadata": {
    "id": "4zgaRpQDdvXb"
   },
   "source": [
    "### tokenizer 테스트"
   ]
  },
  {
   "cell_type": "code",
   "execution_count": null,
   "metadata": {
    "id": "S7SuQ-EFkqvL"
   },
   "outputs": [],
   "source": [
    "# okt_ls = []\n",
    "# for i in range(len(text_data)):\n",
    "#     okt_text = okt.pos(text_data['convert_ls'][i])\n",
    "#     okt_ls = okt_ls + okt_text\n",
    "\n",
    "# pd.unique(okt_ls)"
   ]
  },
  {
   "cell_type": "code",
   "execution_count": null,
   "metadata": {
    "id": "xIaU_-3zmT9X"
   },
   "outputs": [],
   "source": [
    "# kkma_ls = []\n",
    "# for i in range(len(text_data)):\n",
    "#     kkma_text = kkma.pos(text_data['convert_ls'][i])\n",
    "#     kkma_ls = kkma_ls + kkma_text\n",
    "\n",
    "# pd.unique(kkma_ls)"
   ]
  },
  {
   "cell_type": "markdown",
   "metadata": {
    "id": "kguP0dF4shL8"
   },
   "source": [
    "### kkma가 더 적합해보임   ----> okt로 적힌 함수명 고치기\n",
    "\n",
    "토큰화 / 불용어 제거 / token_len_max"
   ]
  },
  {
   "cell_type": "code",
   "execution_count": 73,
   "metadata": {
    "id": "XL1lW7wrgI0S"
   },
   "outputs": [],
   "source": [
    "# kkma 토큰화 함수정의  \n",
    "\n",
    "def kkma_tokenizer(input_df):\n",
    "    # 일단 제거할 품사집합을 설정(품사들만 설정)\n",
    "    valid_pos = ['NNG','VV','SW','MAG'] # 'NNG=보통명사','VV=동사','SW=기타기호','MAG=일반부사'\n",
    "\n",
    "    # token_text 먼저 선언\n",
    "    input_df['token_text'] = np.nan\n",
    "    \n",
    "    # 토큰화하기 위한 컬럼 설정\n",
    "    token_ls =[] # 나중에 서버에 넣을 때는 필요없음 / 인공지능 학습용 데이터 만들기\n",
    "    for i in range(len(input_df)):\n",
    "        \n",
    "        # tokenize\n",
    "        token_text = kkma.pos(input_df['convert_ls'][i])\n",
    "        \n",
    "        # 불용어 제거\n",
    "        ls = [] # 해당 열의 토큰 텍스트에 해당되는 값\n",
    "        for token in token_text:\n",
    "            \n",
    "            if token[1] in valid_pos: # token은 튜플 값 / ('단어':'품사 형태')\n",
    "                ls.append(token[0])\n",
    "                token_ls.append(token[0])\n",
    "            input_df['token_text'][i] = ls"
   ]
  },
  {
   "cell_type": "code",
   "execution_count": 74,
   "metadata": {
    "id": "pFPLS6YJhOjm"
   },
   "outputs": [
    {
     "name": "stderr",
     "output_type": "stream",
     "text": [
      "C:\\Users\\parkgun\\anaconda3\\envs\\pydatavenv\\lib\\site-packages\\ipykernel_launcher.py:24: SettingWithCopyWarning: \n",
      "A value is trying to be set on a copy of a slice from a DataFrame\n",
      "\n",
      "See the caveats in the documentation: https://pandas.pydata.org/pandas-docs/stable/user_guide/indexing.html#returning-a-view-versus-a-copy\n",
      "C:\\Users\\parkgun\\anaconda3\\envs\\pydatavenv\\lib\\site-packages\\pandas\\core\\indexing.py:670: SettingWithCopyWarning: \n",
      "A value is trying to be set on a copy of a slice from a DataFrame\n",
      "\n",
      "See the caveats in the documentation: https://pandas.pydata.org/pandas-docs/stable/user_guide/indexing.html#returning-a-view-versus-a-copy\n",
      "  iloc._setitem_with_indexer(indexer, value)\n"
     ]
    },
    {
     "data": {
      "text/html": [
       "<div>\n",
       "<style scoped>\n",
       "    .dataframe tbody tr th:only-of-type {\n",
       "        vertical-align: middle;\n",
       "    }\n",
       "\n",
       "    .dataframe tbody tr th {\n",
       "        vertical-align: top;\n",
       "    }\n",
       "\n",
       "    .dataframe thead th {\n",
       "        text-align: right;\n",
       "    }\n",
       "</style>\n",
       "<table border=\"1\" class=\"dataframe\">\n",
       "  <thead>\n",
       "    <tr style=\"text-align: right;\">\n",
       "      <th></th>\n",
       "      <th>text</th>\n",
       "      <th>intent</th>\n",
       "      <th>label</th>\n",
       "      <th>convert_ls</th>\n",
       "      <th>token_text</th>\n",
       "    </tr>\n",
       "  </thead>\n",
       "  <tbody>\n",
       "    <tr>\n",
       "      <th>0</th>\n",
       "      <td>운행시작해</td>\n",
       "      <td>운행시작</td>\n",
       "      <td>0</td>\n",
       "      <td>운행 시작해</td>\n",
       "      <td>[운행, 시작하]</td>\n",
       "    </tr>\n",
       "    <tr>\n",
       "      <th>1</th>\n",
       "      <td>운행시작하자</td>\n",
       "      <td>운행시작</td>\n",
       "      <td>0</td>\n",
       "      <td>운행 시작하자</td>\n",
       "      <td>[운행, 시작]</td>\n",
       "    </tr>\n",
       "    <tr>\n",
       "      <th>2</th>\n",
       "      <td>운행하자</td>\n",
       "      <td>운행시작</td>\n",
       "      <td>0</td>\n",
       "      <td>운행하자</td>\n",
       "      <td>[운행]</td>\n",
       "    </tr>\n",
       "    <tr>\n",
       "      <th>3</th>\n",
       "      <td>운행해</td>\n",
       "      <td>운행시작</td>\n",
       "      <td>0</td>\n",
       "      <td>운행해</td>\n",
       "      <td>[운행]</td>\n",
       "    </tr>\n",
       "    <tr>\n",
       "      <th>4</th>\n",
       "      <td>운행시작해주세요</td>\n",
       "      <td>운행시작</td>\n",
       "      <td>0</td>\n",
       "      <td>운행 시작해주세요</td>\n",
       "      <td>[운행, 시작하]</td>\n",
       "    </tr>\n",
       "    <tr>\n",
       "      <th>...</th>\n",
       "      <td>...</td>\n",
       "      <td>...</td>\n",
       "      <td>...</td>\n",
       "      <td>...</td>\n",
       "      <td>...</td>\n",
       "    </tr>\n",
       "    <tr>\n",
       "      <th>120</th>\n",
       "      <td>배달끝났어</td>\n",
       "      <td>배달완료</td>\n",
       "      <td>6</td>\n",
       "      <td>배달 끝났어</td>\n",
       "      <td>[배달, 끝나]</td>\n",
       "    </tr>\n",
       "    <tr>\n",
       "      <th>121</th>\n",
       "      <td>음식배달완료</td>\n",
       "      <td>배달완료</td>\n",
       "      <td>6</td>\n",
       "      <td>음식 배달 완료</td>\n",
       "      <td>[음식, 배달, 완료]</td>\n",
       "    </tr>\n",
       "    <tr>\n",
       "      <th>122</th>\n",
       "      <td>음식배달완료했어</td>\n",
       "      <td>배달완료</td>\n",
       "      <td>6</td>\n",
       "      <td>음식 배달 완료했어</td>\n",
       "      <td>[음식, 배달, 완료]</td>\n",
       "    </tr>\n",
       "    <tr>\n",
       "      <th>123</th>\n",
       "      <td>음식배달끝냈어</td>\n",
       "      <td>배달완료</td>\n",
       "      <td>6</td>\n",
       "      <td>음식 배달 끝냈어</td>\n",
       "      <td>[음식, 배달, 끝내]</td>\n",
       "    </tr>\n",
       "    <tr>\n",
       "      <th>124</th>\n",
       "      <td>음식배달끝났어</td>\n",
       "      <td>배달완료</td>\n",
       "      <td>6</td>\n",
       "      <td>음식 배달 끝났어</td>\n",
       "      <td>[음식, 배달, 끝나]</td>\n",
       "    </tr>\n",
       "  </tbody>\n",
       "</table>\n",
       "<p>125 rows × 5 columns</p>\n",
       "</div>"
      ],
      "text/plain": [
       "         text intent  label  convert_ls    token_text\n",
       "0       운행시작해   운행시작      0      운행 시작해     [운행, 시작하]\n",
       "1      운행시작하자   운행시작      0     운행 시작하자      [운행, 시작]\n",
       "2        운행하자   운행시작      0        운행하자          [운행]\n",
       "3         운행해   운행시작      0         운행해          [운행]\n",
       "4    운행시작해주세요   운행시작      0   운행 시작해주세요     [운행, 시작하]\n",
       "..        ...    ...    ...         ...           ...\n",
       "120     배달끝났어   배달완료      6      배달 끝났어      [배달, 끝나]\n",
       "121    음식배달완료   배달완료      6    음식 배달 완료  [음식, 배달, 완료]\n",
       "122  음식배달완료했어   배달완료      6  음식 배달 완료했어  [음식, 배달, 완료]\n",
       "123   음식배달끝냈어   배달완료      6   음식 배달 끝냈어  [음식, 배달, 끝내]\n",
       "124   음식배달끝났어   배달완료      6   음식 배달 끝났어  [음식, 배달, 끝나]\n",
       "\n",
       "[125 rows x 5 columns]"
      ]
     },
     "metadata": {},
     "output_type": "display_data"
    },
    {
     "name": "stderr",
     "output_type": "stream",
     "text": [
      "C:\\Users\\parkgun\\anaconda3\\envs\\pydatavenv\\lib\\site-packages\\ipykernel_launcher.py:24: SettingWithCopyWarning: \n",
      "A value is trying to be set on a copy of a slice from a DataFrame\n",
      "\n",
      "See the caveats in the documentation: https://pandas.pydata.org/pandas-docs/stable/user_guide/indexing.html#returning-a-view-versus-a-copy\n",
      "C:\\Users\\parkgun\\anaconda3\\envs\\pydatavenv\\lib\\site-packages\\pandas\\core\\indexing.py:670: SettingWithCopyWarning: \n",
      "A value is trying to be set on a copy of a slice from a DataFrame\n",
      "\n",
      "See the caveats in the documentation: https://pandas.pydata.org/pandas-docs/stable/user_guide/indexing.html#returning-a-view-versus-a-copy\n",
      "  iloc._setitem_with_indexer(indexer, value)\n"
     ]
    },
    {
     "data": {
      "text/html": [
       "<div>\n",
       "<style scoped>\n",
       "    .dataframe tbody tr th:only-of-type {\n",
       "        vertical-align: middle;\n",
       "    }\n",
       "\n",
       "    .dataframe tbody tr th {\n",
       "        vertical-align: top;\n",
       "    }\n",
       "\n",
       "    .dataframe thead th {\n",
       "        text-align: right;\n",
       "    }\n",
       "</style>\n",
       "<table border=\"1\" class=\"dataframe\">\n",
       "  <thead>\n",
       "    <tr style=\"text-align: right;\">\n",
       "      <th></th>\n",
       "      <th>text</th>\n",
       "      <th>intent</th>\n",
       "      <th>label</th>\n",
       "      <th>convert_ls</th>\n",
       "      <th>token_text</th>\n",
       "    </tr>\n",
       "  </thead>\n",
       "  <tbody>\n",
       "    <tr>\n",
       "      <th>0</th>\n",
       "      <td>운행시작해</td>\n",
       "      <td>운행시작</td>\n",
       "      <td>0</td>\n",
       "      <td>운행 시작해</td>\n",
       "      <td>[운행, 시작하]</td>\n",
       "    </tr>\n",
       "    <tr>\n",
       "      <th>1</th>\n",
       "      <td>배달 시작할게</td>\n",
       "      <td>운행시작</td>\n",
       "      <td>0</td>\n",
       "      <td>배달 시작할게</td>\n",
       "      <td>[배달, 시작하]</td>\n",
       "    </tr>\n",
       "    <tr>\n",
       "      <th>2</th>\n",
       "      <td>가게에 전화</td>\n",
       "      <td>가게전화</td>\n",
       "      <td>1</td>\n",
       "      <td>가게에 전화</td>\n",
       "      <td>[가게, 전화]</td>\n",
       "    </tr>\n",
       "    <tr>\n",
       "      <th>3</th>\n",
       "      <td>식당에 전화해</td>\n",
       "      <td>가게전화</td>\n",
       "      <td>1</td>\n",
       "      <td>식당에 전화해</td>\n",
       "      <td>[식당, 전화]</td>\n",
       "    </tr>\n",
       "    <tr>\n",
       "      <th>4</th>\n",
       "      <td>식당 왔어</td>\n",
       "      <td>가게도착</td>\n",
       "      <td>2</td>\n",
       "      <td>식당 왔어</td>\n",
       "      <td>[식당, 오]</td>\n",
       "    </tr>\n",
       "    <tr>\n",
       "      <th>5</th>\n",
       "      <td>가게 도착</td>\n",
       "      <td>가게도착</td>\n",
       "      <td>2</td>\n",
       "      <td>가게 도착</td>\n",
       "      <td>[가게, 도착]</td>\n",
       "    </tr>\n",
       "    <tr>\n",
       "      <th>6</th>\n",
       "      <td>픽업완료</td>\n",
       "      <td>픽업완료</td>\n",
       "      <td>3</td>\n",
       "      <td>픽업 완료</td>\n",
       "      <td>[픽업, 완료]</td>\n",
       "    </tr>\n",
       "    <tr>\n",
       "      <th>7</th>\n",
       "      <td>픽업했어</td>\n",
       "      <td>픽업완료</td>\n",
       "      <td>3</td>\n",
       "      <td>픽업했어</td>\n",
       "      <td>[픽업]</td>\n",
       "    </tr>\n",
       "    <tr>\n",
       "      <th>8</th>\n",
       "      <td>주문번호 7289</td>\n",
       "      <td>영수증번호</td>\n",
       "      <td>4</td>\n",
       "      <td>주문번호  @</td>\n",
       "      <td>[주문, 번호, @]</td>\n",
       "    </tr>\n",
       "    <tr>\n",
       "      <th>9</th>\n",
       "      <td>영수증 9893</td>\n",
       "      <td>영수증번호</td>\n",
       "      <td>4</td>\n",
       "      <td>영수증  @</td>\n",
       "      <td>[영수증, @]</td>\n",
       "    </tr>\n",
       "    <tr>\n",
       "      <th>10</th>\n",
       "      <td>10분후 도착</td>\n",
       "      <td>소요시간선택</td>\n",
       "      <td>5</td>\n",
       "      <td>#분 후 도착</td>\n",
       "      <td>[#, 분, 후, 도착]</td>\n",
       "    </tr>\n",
       "    <tr>\n",
       "      <th>11</th>\n",
       "      <td>20분후 도착</td>\n",
       "      <td>소요시간선택</td>\n",
       "      <td>5</td>\n",
       "      <td>#분 후 도착</td>\n",
       "      <td>[#, 분, 후, 도착]</td>\n",
       "    </tr>\n",
       "    <tr>\n",
       "      <th>12</th>\n",
       "      <td>배달끝</td>\n",
       "      <td>배달완료</td>\n",
       "      <td>6</td>\n",
       "      <td>배달 끝</td>\n",
       "      <td>[배달, 끝]</td>\n",
       "    </tr>\n",
       "    <tr>\n",
       "      <th>13</th>\n",
       "      <td>배달완료</td>\n",
       "      <td>배달완료</td>\n",
       "      <td>6</td>\n",
       "      <td>배달 완료</td>\n",
       "      <td>[배달, 완료]</td>\n",
       "    </tr>\n",
       "  </tbody>\n",
       "</table>\n",
       "</div>"
      ],
      "text/plain": [
       "         text  intent  label convert_ls     token_text\n",
       "0       운행시작해    운행시작      0     운행 시작해      [운행, 시작하]\n",
       "1     배달 시작할게    운행시작      0    배달 시작할게      [배달, 시작하]\n",
       "2      가게에 전화    가게전화      1     가게에 전화       [가게, 전화]\n",
       "3     식당에 전화해    가게전화      1    식당에 전화해       [식당, 전화]\n",
       "4       식당 왔어    가게도착      2      식당 왔어        [식당, 오]\n",
       "5       가게 도착    가게도착      2      가게 도착       [가게, 도착]\n",
       "6        픽업완료    픽업완료      3      픽업 완료       [픽업, 완료]\n",
       "7        픽업했어    픽업완료      3       픽업했어           [픽업]\n",
       "8   주문번호 7289   영수증번호      4    주문번호  @    [주문, 번호, @]\n",
       "9    영수증 9893   영수증번호      4     영수증  @       [영수증, @]\n",
       "10    10분후 도착  소요시간선택      5    #분 후 도착  [#, 분, 후, 도착]\n",
       "11    20분후 도착  소요시간선택      5    #분 후 도착  [#, 분, 후, 도착]\n",
       "12        배달끝    배달완료      6       배달 끝        [배달, 끝]\n",
       "13       배달완료    배달완료      6      배달 완료       [배달, 완료]"
      ]
     },
     "metadata": {},
     "output_type": "display_data"
    }
   ],
   "source": [
    "kkma_tokenizer(df_train)\n",
    "display(df_train)\n",
    "kkma_tokenizer(df_test)\n",
    "display(df_test)"
   ]
  },
  {
   "cell_type": "markdown",
   "metadata": {
    "id": "ZJgn95TyX4JL"
   },
   "source": [
    "## 정수 인코딩 \n",
    "위 코드에서 token_ls 라는 변수명 사용 ==> 바꿔서 변수명이 서로 겹치지 않도록 유지"
   ]
  },
  {
   "cell_type": "code",
   "execution_count": 75,
   "metadata": {
    "id": "ay8M8AIrrYeM"
   },
   "outputs": [
    {
     "data": {
      "text/plain": [
       "0       운행\n",
       "1      시작하\n",
       "2       운행\n",
       "3       시작\n",
       "4       운행\n",
       "      ... \n",
       "283     배달\n",
       "284     끝내\n",
       "285     음식\n",
       "286     배달\n",
       "287     끝나\n",
       "Length: 288, dtype: object"
      ]
     },
     "metadata": {},
     "output_type": "display_data"
    }
   ],
   "source": [
    "# 토크나이저 최적화\n",
    "token_ls1 = [] # 위의 토큰화 함수 변수와 동일 / 바꿔줘야 할 필요가 있음\n",
    "\n",
    "for i in range(len(df_train)):\n",
    "    token_ls1 = token_ls1 + df_train['token_text'][i]\n",
    "\n",
    "token_ls1 = pd.Series(token_ls1)\n",
    "\n",
    "# tokenizer fit\n",
    "tokenizer = Tokenizer()\n",
    "tokenizer.fit_on_texts(token_ls1)\n",
    "\n",
    "vocab_size = len(pd.unique(token_ls1))\n",
    "\n",
    "display(token_ls1)\n",
    "\n",
    "token_ls1.to_csv(\"./data/text/token_ls.csv\")"
   ]
  },
  {
   "cell_type": "markdown",
   "metadata": {},
   "source": [
    "# 정수인코딩 컬럼 생성\n",
    "위의 코드와 같이 token_ls가 반복 // 이를 구분할 수 있는 아규먼트로 설정하자"
   ]
  },
  {
   "cell_type": "code",
   "execution_count": 58,
   "metadata": {
    "id": "AW-dArz7sCs0"
   },
   "outputs": [],
   "source": [
    "## df의 정수인코딩 column 생성 및 반영 함수화\n",
    "\n",
    "# 두번째 인수에서 헷갈릴 수도 있음 / 변수명을 변화시킬지 생각해보기\n",
    "\n",
    "\n",
    "def int_encode(df, token_ls):\n",
    "\n",
    "    tokenizer.fit_on_texts(token_ls)\n",
    "\n",
    "    df['integer_encode'] = np.nan\n",
    "    \n",
    "    for i in range(len(df)):\n",
    "        \n",
    "        # integer encode\n",
    "        seq = tokenizer.texts_to_sequences(df['token_text'])\n",
    "\n",
    "        df['integer_encode'] = seq"
   ]
  },
  {
   "cell_type": "code",
   "execution_count": 59,
   "metadata": {
    "id": "sxuA9_Uwsyjl"
   },
   "outputs": [
    {
     "data": {
      "text/html": [
       "<div>\n",
       "<style scoped>\n",
       "    .dataframe tbody tr th:only-of-type {\n",
       "        vertical-align: middle;\n",
       "    }\n",
       "\n",
       "    .dataframe tbody tr th {\n",
       "        vertical-align: top;\n",
       "    }\n",
       "\n",
       "    .dataframe thead th {\n",
       "        text-align: right;\n",
       "    }\n",
       "</style>\n",
       "<table border=\"1\" class=\"dataframe\">\n",
       "  <thead>\n",
       "    <tr style=\"text-align: right;\">\n",
       "      <th></th>\n",
       "      <th>text</th>\n",
       "      <th>intent</th>\n",
       "      <th>label</th>\n",
       "      <th>convert_ls</th>\n",
       "      <th>token_text</th>\n",
       "      <th>integer_encode</th>\n",
       "    </tr>\n",
       "  </thead>\n",
       "  <tbody>\n",
       "    <tr>\n",
       "      <th>0</th>\n",
       "      <td>운행시작해</td>\n",
       "      <td>운행시작</td>\n",
       "      <td>0</td>\n",
       "      <td>운행 시작해</td>\n",
       "      <td>[운행, 시작하]</td>\n",
       "      <td>[13, 15]</td>\n",
       "    </tr>\n",
       "    <tr>\n",
       "      <th>1</th>\n",
       "      <td>운행시작하자</td>\n",
       "      <td>운행시작</td>\n",
       "      <td>0</td>\n",
       "      <td>운행 시작하자</td>\n",
       "      <td>[운행, 시작]</td>\n",
       "      <td>[13, 18]</td>\n",
       "    </tr>\n",
       "    <tr>\n",
       "      <th>2</th>\n",
       "      <td>운행하자</td>\n",
       "      <td>운행시작</td>\n",
       "      <td>0</td>\n",
       "      <td>운행하자</td>\n",
       "      <td>[운행]</td>\n",
       "      <td>[13]</td>\n",
       "    </tr>\n",
       "    <tr>\n",
       "      <th>3</th>\n",
       "      <td>운행해</td>\n",
       "      <td>운행시작</td>\n",
       "      <td>0</td>\n",
       "      <td>운행해</td>\n",
       "      <td>[운행]</td>\n",
       "      <td>[13]</td>\n",
       "    </tr>\n",
       "    <tr>\n",
       "      <th>4</th>\n",
       "      <td>운행시작해주세요</td>\n",
       "      <td>운행시작</td>\n",
       "      <td>0</td>\n",
       "      <td>운행 시작해주세요</td>\n",
       "      <td>[운행, 시작하]</td>\n",
       "      <td>[13, 15]</td>\n",
       "    </tr>\n",
       "  </tbody>\n",
       "</table>\n",
       "</div>"
      ],
      "text/plain": [
       "       text intent  label convert_ls token_text integer_encode\n",
       "0     운행시작해   운행시작      0     운행 시작해  [운행, 시작하]       [13, 15]\n",
       "1    운행시작하자   운행시작      0    운행 시작하자   [운행, 시작]       [13, 18]\n",
       "2      운행하자   운행시작      0       운행하자       [운행]           [13]\n",
       "3       운행해   운행시작      0        운행해       [운행]           [13]\n",
       "4  운행시작해주세요   운행시작      0  운행 시작해주세요  [운행, 시작하]       [13, 15]"
      ]
     },
     "metadata": {},
     "output_type": "display_data"
    },
    {
     "data": {
      "text/html": [
       "<div>\n",
       "<style scoped>\n",
       "    .dataframe tbody tr th:only-of-type {\n",
       "        vertical-align: middle;\n",
       "    }\n",
       "\n",
       "    .dataframe tbody tr th {\n",
       "        vertical-align: top;\n",
       "    }\n",
       "\n",
       "    .dataframe thead th {\n",
       "        text-align: right;\n",
       "    }\n",
       "</style>\n",
       "<table border=\"1\" class=\"dataframe\">\n",
       "  <thead>\n",
       "    <tr style=\"text-align: right;\">\n",
       "      <th></th>\n",
       "      <th>text</th>\n",
       "      <th>intent</th>\n",
       "      <th>label</th>\n",
       "      <th>convert_ls</th>\n",
       "      <th>token_text</th>\n",
       "      <th>integer_encode</th>\n",
       "    </tr>\n",
       "  </thead>\n",
       "  <tbody>\n",
       "    <tr>\n",
       "      <th>0</th>\n",
       "      <td>운행시작해</td>\n",
       "      <td>운행시작</td>\n",
       "      <td>0</td>\n",
       "      <td>운행 시작해</td>\n",
       "      <td>[운행, 시작하]</td>\n",
       "      <td>[13, 15]</td>\n",
       "    </tr>\n",
       "    <tr>\n",
       "      <th>1</th>\n",
       "      <td>배달 시작할게</td>\n",
       "      <td>운행시작</td>\n",
       "      <td>0</td>\n",
       "      <td>배달 시작할게</td>\n",
       "      <td>[배달, 시작하]</td>\n",
       "      <td>[2, 15]</td>\n",
       "    </tr>\n",
       "    <tr>\n",
       "      <th>2</th>\n",
       "      <td>가게에 전화</td>\n",
       "      <td>가게전화</td>\n",
       "      <td>1</td>\n",
       "      <td>가게에 전화</td>\n",
       "      <td>[가게, 전화]</td>\n",
       "      <td>[5, 8]</td>\n",
       "    </tr>\n",
       "    <tr>\n",
       "      <th>3</th>\n",
       "      <td>식당에 전화해</td>\n",
       "      <td>가게전화</td>\n",
       "      <td>1</td>\n",
       "      <td>식당에 전화해</td>\n",
       "      <td>[식당, 전화]</td>\n",
       "      <td>[4, 8]</td>\n",
       "    </tr>\n",
       "    <tr>\n",
       "      <th>4</th>\n",
       "      <td>식당 왔어</td>\n",
       "      <td>가게도착</td>\n",
       "      <td>2</td>\n",
       "      <td>식당 왔어</td>\n",
       "      <td>[식당, 오]</td>\n",
       "      <td>[4, 17]</td>\n",
       "    </tr>\n",
       "  </tbody>\n",
       "</table>\n",
       "</div>"
      ],
      "text/plain": [
       "      text intent  label convert_ls token_text integer_encode\n",
       "0    운행시작해   운행시작      0     운행 시작해  [운행, 시작하]       [13, 15]\n",
       "1  배달 시작할게   운행시작      0    배달 시작할게  [배달, 시작하]        [2, 15]\n",
       "2   가게에 전화   가게전화      1     가게에 전화   [가게, 전화]         [5, 8]\n",
       "3  식당에 전화해   가게전화      1    식당에 전화해   [식당, 전화]         [4, 8]\n",
       "4    식당 왔어   가게도착      2      식당 왔어    [식당, 오]        [4, 17]"
      ]
     },
     "metadata": {},
     "output_type": "display_data"
    }
   ],
   "source": [
    "int_encode(df_train,token_ls = token_ls)\n",
    "int_encode(df_test,token_ls = token_ls)\n",
    "\n",
    "display(df_train.head())\n",
    "display(df_test.tail())"
   ]
  },
  {
   "cell_type": "markdown",
   "metadata": {
    "id": "2E3C6je4wsoo"
   },
   "source": [
    "## 패딩"
   ]
  },
  {
   "cell_type": "code",
   "execution_count": 75,
   "metadata": {
    "id": "RBC9y3WjwwPu"
   },
   "outputs": [],
   "source": [
    "df_train = df_train[['integer_encode','label']]\n",
    "df_test = df_test[['integer_encode','label']]\n"
   ]
  },
  {
   "cell_type": "code",
   "execution_count": null,
   "metadata": {
    "id": "zX_xFf0A7kRN"
   },
   "outputs": [],
   "source": [
    "max_len = 8\n",
    "\n",
    "train_padded = pad_sequences(df_train['integer_encode'], maxlen=max_len)\n",
    "test_padded = pad_sequences(df_test['integer_encode'], maxlen=max_len)"
   ]
  },
  {
   "cell_type": "markdown",
   "metadata": {
    "id": "jVj-tCR4w53H"
   },
   "source": [
    "# train_test_split"
   ]
  },
  {
   "cell_type": "code",
   "execution_count": 78,
   "metadata": {
    "id": "bqCLFUBOt3ZS"
   },
   "outputs": [],
   "source": [
    "x_data_train,x_data_valid, y_data_train, y_data_valid = \\\n",
    "train_test_split(train_padded,\n",
    "                 df_train['label'],\n",
    "                 test_size=0.3,\n",
    "                 random_state=0,\n",
    "                 shuffle = True)"
   ]
  },
  {
   "cell_type": "code",
   "execution_count": null,
   "metadata": {
    "id": "c8h_funSt-SC"
   },
   "outputs": [],
   "source": []
  },
  {
   "cell_type": "code",
   "execution_count": null,
   "metadata": {
    "id": "pKSuQQtEoPWK"
   },
   "outputs": [],
   "source": [
    "# x_data_train,x_data_valid, y_data_train, y_data_valid = \\\n",
    "# train_test_split(df_train.drop('label', axis=1, inplace=False),\n",
    "#                  train_data['label'],\n",
    "#                  test_size=0.3,\n",
    "#                  random_state=0,\n",
    "#                  shuffle = True)"
   ]
  },
  {
   "cell_type": "markdown",
   "metadata": {
    "id": "Zj_YeBJMw0mS"
   },
   "source": [
    "# Modeling"
   ]
  },
  {
   "cell_type": "code",
   "execution_count": null,
   "metadata": {
    "id": "eUaP_oyKxIvD"
   },
   "outputs": [],
   "source": [
    "from tensorflow.keras.models import Sequential\n",
    "from tensorflow.keras.layers import Dense, LSTM, Embedding, SimpleRNN\n",
    "from tensorflow.keras.preprocessing.sequence import pad_sequences\n",
    "from tensorflow.keras.callbacks import EarlyStopping, ModelCheckpoint\n",
    "from tensorflow.keras.models import load_model"
   ]
  },
  {
   "cell_type": "markdown",
   "metadata": {
    "id": "qpHHsdO49Ry_"
   },
   "source": [
    "## label one_hot_encoding"
   ]
  },
  {
   "cell_type": "code",
   "execution_count": null,
   "metadata": {
    "id": "0vmPsON77eJa"
   },
   "outputs": [],
   "source": [
    "from tensorflow.keras.utils import to_categorical\n",
    "\n",
    "y_data_train = to_categorical(y_data_train) # 훈련용 레이블의 원-핫 인코딩\n",
    "y_data_valid = to_categorical(y_data_valid) # valid용 레이블의 원-핫 인코딩"
   ]
  },
  {
   "cell_type": "markdown",
   "metadata": {
    "id": "WUOd7Z9UA_KO"
   },
   "source": [
    "##call_back"
   ]
  },
  {
   "cell_type": "code",
   "execution_count": null,
   "metadata": {
    "id": "gIn2xC0cyTKE"
   },
   "outputs": [],
   "source": [
    "es = EarlyStopping(monitor='val_loss', mode='min', verbose=1, patience=4) # 학습 시 정답률이 높아지면 멈추는 것 / 과적합\n",
    "mc = ModelCheckpoint('best_model.h5', monitor='val_acc', mode='max', verbose=1, save_best_only=True) # 성능이 가장 좋을 때 저장"
   ]
  },
  {
   "cell_type": "markdown",
   "metadata": {
    "id": "XFPik0Q_BOxG"
   },
   "source": [
    "## modeling"
   ]
  },
  {
   "cell_type": "code",
   "execution_count": 81,
   "metadata": {
    "colab": {
     "base_uri": "https://localhost:8080/"
    },
    "id": "4IpD6bk6vb__",
    "outputId": "4769899f-433a-43d4-9676-7adae78b0cb7"
   },
   "outputs": [
    {
     "name": "stdout",
     "output_type": "stream",
     "text": [
      "[0 1 2 3 4 5 6]\n"
     ]
    },
    {
     "data": {
      "text/plain": [
       "7"
      ]
     },
     "execution_count": 81,
     "metadata": {
      "tags": []
     },
     "output_type": "execute_result"
    }
   ],
   "source": [
    "intent = pd.unique(train_data['label'])\n",
    "print(intent)\n",
    "intent_count = intent.shape[0]\n",
    "intent_count"
   ]
  },
  {
   "cell_type": "code",
   "execution_count": null,
   "metadata": {
    "id": "bv6cg4lm_lI3"
   },
   "outputs": [],
   "source": [
    "model = Sequential() # 모델을 시작하기 위한 시작함수 (모델은 층을 쌓는다?)\n",
    "model.add(Embedding(vocab_size, 120)) # add 는 층 추가\n",
    "model.add(LSTM(120)) # LSTM은 순환신경망 모델 // 장기간으로 기억할 수 있도록 구성\n",
    "model.add(Dense(intent_count, activation='softmax')) # 다양한 값이 나온다? 0-1 사이 출력"
   ]
  },
  {
   "cell_type": "code",
   "execution_count": null,
   "metadata": {
    "id": "9DUfkdx5414j"
   },
   "outputs": [],
   "source": [
    "model.compile(loss='categorical_crossentropy', optimizer='adam', metrics=['acc']) # 모델 구성 작업"
   ]
  },
  {
   "cell_type": "code",
   "execution_count": null,
   "metadata": {
    "id": "XYFIYvKv43jt"
   },
   "outputs": [],
   "source": [
    "history = model.fit(x_data_train,\n",
    "                    y_data_train,\n",
    "                    batch_size = 10, # 한번에 학습시키는 데이터 양\n",
    "                    epochs=10,       # 몇 번 학습시킬 지 --> 과적합 위험\n",
    "                    callbacks=[es, mc], # 피드백? 학습 피드백\n",
    "                    validation_data=(x_data_valid, # 평가용 데이터 // 모의고사 데이터\n",
    "                                     y_data_valid))"
   ]
  },
  {
   "cell_type": "markdown",
   "metadata": {
    "id": "xW3tyDdlDMAV"
   },
   "source": [
    "# predict"
   ]
  },
  {
   "cell_type": "code",
   "execution_count": null,
   "metadata": {
    "id": "iL7MqmEm4-O9"
   },
   "outputs": [],
   "source": [
    "pred = model.predict(test_padded) # 테스트 데이터 인풋\n",
    "y_pred = [np.argmax(i) for i in pred] # softmax값 중 가장 큰 것을 불러와서 인덱스에 해당하는 열에 입력"
   ]
  },
  {
   "cell_type": "code",
   "execution_count": 93,
   "metadata": {
    "colab": {
     "base_uri": "https://localhost:8080/"
    },
    "id": "fs39qzYvuR06",
    "outputId": "5e8f7bfe-7464-4d6b-a300-43bcc6f6bc33"
   },
   "outputs": [
    {
     "data": {
      "text/plain": [
       "0     0\n",
       "1     0\n",
       "2     1\n",
       "3     1\n",
       "4     2\n",
       "5     2\n",
       "6     3\n",
       "7     3\n",
       "8     4\n",
       "9     4\n",
       "10    5\n",
       "11    5\n",
       "12    0\n",
       "13    6\n",
       "dtype: int64"
      ]
     },
     "execution_count": 93,
     "metadata": {
      "tags": []
     },
     "output_type": "execute_result"
    }
   ],
   "source": []
  },
  {
   "cell_type": "code",
   "execution_count": 95,
   "metadata": {
    "colab": {
     "base_uri": "https://localhost:8080/",
     "height": 483
    },
    "id": "ZEGZZqtkukJP",
    "outputId": "591d7856-56ab-430d-8114-f7106ef4f2e9"
   },
   "outputs": [
    {
     "data": {
      "text/html": [
       "<div>\n",
       "<style scoped>\n",
       "    .dataframe tbody tr th:only-of-type {\n",
       "        vertical-align: middle;\n",
       "    }\n",
       "\n",
       "    .dataframe tbody tr th {\n",
       "        vertical-align: top;\n",
       "    }\n",
       "\n",
       "    .dataframe thead th {\n",
       "        text-align: right;\n",
       "    }\n",
       "</style>\n",
       "<table border=\"1\" class=\"dataframe\">\n",
       "  <thead>\n",
       "    <tr style=\"text-align: right;\">\n",
       "      <th></th>\n",
       "      <th>padded</th>\n",
       "      <th>label</th>\n",
       "      <th>prediction</th>\n",
       "    </tr>\n",
       "  </thead>\n",
       "  <tbody>\n",
       "    <tr>\n",
       "      <th>0</th>\n",
       "      <td>[0, 0, 0, 0, 0, 0, 13, 15]</td>\n",
       "      <td>0</td>\n",
       "      <td>0</td>\n",
       "    </tr>\n",
       "    <tr>\n",
       "      <th>1</th>\n",
       "      <td>[0, 0, 0, 0, 0, 0, 3, 15]</td>\n",
       "      <td>0</td>\n",
       "      <td>0</td>\n",
       "    </tr>\n",
       "    <tr>\n",
       "      <th>2</th>\n",
       "      <td>[0, 0, 0, 0, 0, 0, 5, 7]</td>\n",
       "      <td>1</td>\n",
       "      <td>1</td>\n",
       "    </tr>\n",
       "    <tr>\n",
       "      <th>3</th>\n",
       "      <td>[0, 0, 0, 0, 0, 0, 4, 7]</td>\n",
       "      <td>1</td>\n",
       "      <td>1</td>\n",
       "    </tr>\n",
       "    <tr>\n",
       "      <th>4</th>\n",
       "      <td>[0, 0, 0, 0, 0, 0, 4, 17]</td>\n",
       "      <td>2</td>\n",
       "      <td>2</td>\n",
       "    </tr>\n",
       "    <tr>\n",
       "      <th>5</th>\n",
       "      <td>[0, 0, 0, 0, 0, 0, 5, 1]</td>\n",
       "      <td>2</td>\n",
       "      <td>2</td>\n",
       "    </tr>\n",
       "    <tr>\n",
       "      <th>6</th>\n",
       "      <td>[0, 0, 0, 0, 0, 0, 14, 9]</td>\n",
       "      <td>3</td>\n",
       "      <td>3</td>\n",
       "    </tr>\n",
       "    <tr>\n",
       "      <th>7</th>\n",
       "      <td>[0, 0, 0, 0, 0, 0, 0, 14]</td>\n",
       "      <td>3</td>\n",
       "      <td>3</td>\n",
       "    </tr>\n",
       "    <tr>\n",
       "      <th>8</th>\n",
       "      <td>[0, 0, 0, 0, 0, 0, 11, 2]</td>\n",
       "      <td>4</td>\n",
       "      <td>4</td>\n",
       "    </tr>\n",
       "    <tr>\n",
       "      <th>9</th>\n",
       "      <td>[0, 0, 0, 0, 0, 0, 0, 10]</td>\n",
       "      <td>4</td>\n",
       "      <td>4</td>\n",
       "    </tr>\n",
       "    <tr>\n",
       "      <th>10</th>\n",
       "      <td>[0, 0, 0, 0, 0, 16, 19, 1]</td>\n",
       "      <td>5</td>\n",
       "      <td>5</td>\n",
       "    </tr>\n",
       "    <tr>\n",
       "      <th>11</th>\n",
       "      <td>[0, 0, 0, 0, 0, 16, 19, 1]</td>\n",
       "      <td>5</td>\n",
       "      <td>5</td>\n",
       "    </tr>\n",
       "    <tr>\n",
       "      <th>12</th>\n",
       "      <td>[0, 0, 0, 0, 0, 0, 0, 3]</td>\n",
       "      <td>6</td>\n",
       "      <td>0</td>\n",
       "    </tr>\n",
       "    <tr>\n",
       "      <th>13</th>\n",
       "      <td>[0, 0, 0, 0, 0, 0, 3, 9]</td>\n",
       "      <td>6</td>\n",
       "      <td>6</td>\n",
       "    </tr>\n",
       "  </tbody>\n",
       "</table>\n",
       "</div>"
      ],
      "text/plain": [
       "                        padded  label  prediction\n",
       "0   [0, 0, 0, 0, 0, 0, 13, 15]      0           0\n",
       "1    [0, 0, 0, 0, 0, 0, 3, 15]      0           0\n",
       "2     [0, 0, 0, 0, 0, 0, 5, 7]      1           1\n",
       "3     [0, 0, 0, 0, 0, 0, 4, 7]      1           1\n",
       "4    [0, 0, 0, 0, 0, 0, 4, 17]      2           2\n",
       "5     [0, 0, 0, 0, 0, 0, 5, 1]      2           2\n",
       "6    [0, 0, 0, 0, 0, 0, 14, 9]      3           3\n",
       "7    [0, 0, 0, 0, 0, 0, 0, 14]      3           3\n",
       "8    [0, 0, 0, 0, 0, 0, 11, 2]      4           4\n",
       "9    [0, 0, 0, 0, 0, 0, 0, 10]      4           4\n",
       "10  [0, 0, 0, 0, 0, 16, 19, 1]      5           5\n",
       "11  [0, 0, 0, 0, 0, 16, 19, 1]      5           5\n",
       "12    [0, 0, 0, 0, 0, 0, 0, 3]      6           0\n",
       "13    [0, 0, 0, 0, 0, 0, 3, 9]      6           6"
      ]
     },
     "execution_count": 95,
     "metadata": {
      "tags": []
     },
     "output_type": "execute_result"
    }
   ],
   "source": [
    "pd.concat([test_data,pd.Series(y_pred,name= 'prediction')],axis=1)"
   ]
  },
  {
   "cell_type": "code",
   "execution_count": null,
   "metadata": {
    "id": "qIRuJB76Ux58"
   },
   "outputs": [],
   "source": [
    "import sklearn\n",
    "print(sklearn.metrics.classification_report(test_data['label'],y_pred))"
   ]
  },
  {
   "cell_type": "code",
   "execution_count": null,
   "metadata": {
    "id": "HZBveB3nvZiN"
   },
   "outputs": [],
   "source": []
  }
 ],
 "metadata": {
  "accelerator": "GPU",
  "colab": {
   "collapsed_sections": [
    "qlbKkYipU4Yl",
    "9GKIlxYKU_Yn",
    "4zgaRpQDdvXb",
    "kguP0dF4shL8",
    "ZJgn95TyX4JL",
    "xW3tyDdlDMAV"
   ],
   "machine_shape": "hm",
   "name": "hel_ri_celus_preprocessing",
   "provenance": [],
   "toc_visible": true
  },
  "kernelspec": {
   "display_name": "pydatavenv",
   "language": "python",
   "name": "pydatavenv"
  },
  "language_info": {
   "codemirror_mode": {
    "name": "ipython",
    "version": 3
   },
   "file_extension": ".py",
   "mimetype": "text/x-python",
   "name": "python",
   "nbconvert_exporter": "python",
   "pygments_lexer": "ipython3",
   "version": "3.7.9"
  }
 },
 "nbformat": 4,
 "nbformat_minor": 4
}
