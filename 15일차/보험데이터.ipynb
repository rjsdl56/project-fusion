{
 "cells": [
  {
   "cell_type": "markdown",
   "metadata": {},
   "source": [
    "# 보험관련 데이터베이스 설계"
   ]
  },
  {
   "cell_type": "markdown",
   "metadata": {},
   "source": [
    "# 보험 관련 데이터를 중 무엇을 수집하고, 어떻게 가공할 지\n",
    "\n",
    "#### 수집해야 할 raw data 목록 (건수당)\n",
    "- 유저 아이디\n",
    "- 배달가게 상호명\n",
    "- 배달출발지(가게) ==> 동주소(도로명주소)\n",
    "- 배달도착지(주문자 주거지) ==> 동주소까지 (개인정보 X) \n",
    "- 배달출발시간    / datetime64 이용\n",
    "- 배달도착시간    / datetime64 이용\n",
    "- 배달비(이건 가게마다 다르니까?) / object가 아닌 int 값으로\n",
    "- 배달주문금액 / object가 아닌 int 값으로\n",
    "- 위험감지횟수 / 카운팅 한 후 마지막에 넣어야 하나?\n",
    "\n",
    "#### 수집해야 할 가공 data 목록 (건수당)\n",
    "- 배달시간(배달도착시간 - 배달출발시간)\n",
    "- 배달거리 (가게 ~ 주거지) ==> 동주소를 좌표로 변환 / 거리측정 (홍연하)\n",
    "- 평균배달시간 (1km 단위로 계산, 배달거리와 배달시간을 나누기)\n",
    "- 위험군 분류 (고,중,저)\n",
    "- 의심사례분류(연속 5회 이상 이상치가 하나도 나오지 않는 유저를 의심유저 재측정 함수에 집어넣기 위해)"
   ]
  },
  {
   "cell_type": "code",
   "execution_count": 2,
   "metadata": {},
   "outputs": [],
   "source": []
  },
  {
   "cell_type": "code",
   "execution_count": 5,
   "metadata": {},
   "outputs": [
    {
     "data": {
      "text/plain": [
       "[1, 3, 0]"
      ]
     },
     "execution_count": 5,
     "metadata": {},
     "output_type": "execute_result"
    }
   ],
   "source": []
  },
  {
   "cell_type": "code",
   "execution_count": null,
   "metadata": {},
   "outputs": [],
   "source": []
  }
 ],
 "metadata": {
  "kernelspec": {
   "display_name": "pydatavenv",
   "language": "python",
   "name": "pydatavenv"
  },
  "language_info": {
   "codemirror_mode": {
    "name": "ipython",
    "version": 3
   },
   "file_extension": ".py",
   "mimetype": "text/x-python",
   "name": "python",
   "nbconvert_exporter": "python",
   "pygments_lexer": "ipython3",
   "version": "3.7.9"
  }
 },
 "nbformat": 4,
 "nbformat_minor": 4
}
