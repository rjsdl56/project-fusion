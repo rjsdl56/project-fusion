{
 "cells": [
  {
   "cell_type": "code",
   "execution_count": null,
   "metadata": {},
   "outputs": [],
   "source": [
    "# 참조 사이트\n",
    "# https://needjarvis.tistory.com/59\n",
    "# https://lemontia.tistory.com/903\n",
    "\n",
    "# 각 용어들에 대해 조금 알아두면 좋을 듯 하다.\n",
    "\n",
    "# - support(지지도)\n",
    "# 전체 거래에서 특정 물품 A와 B가 동시에 거래되는 비중\n",
    "# 해당 규칙이 얼마나 의미있는지 보여줌.\n",
    "# 지지도 = P(A∩B)\n",
    "# :A와 B가 동시에 일어난 횟수 / 전체 거래 횟수\n",
    "\n",
    "\n",
    "# - confiddence(신뢰도)\n",
    "# A를 포함하는 거래 중 A와 B가 동시에 거래되는 비중\n",
    "# 신뢰도 = P(A∩B) / P(A)\n",
    "# :A와 B가 동시에 일어난 횟수 / A가 일어난 횟수\n",
    "\n",
    " \n",
    "# - lift(향상도)\n",
    "# A라는 상품에서 신뢰도가 동일한 상품 B와 C가 존재할 때, 어떤 상품을 더 추천해야 좋을지 판단.\n",
    "# A와 B가 동시에 거래된 비중을 A와 B가 서로 독립된 사건일 때 동시에 거래된 비중으로 나눈 값\n",
    "# 향상도 = P(A∩B) / P(A)*P(B) = P (B|A) / P (B)\n",
    "# : A와 B가 동시에 일어난 횟수 / A, B가 독립된 사건일 때 A,B가 동시에 일어날 확률"
   ]
  },
  {
   "cell_type": "code",
   "execution_count": 1,
   "metadata": {},
   "outputs": [],
   "source": [
    "# apriori에 필요한 모듈 설치 -> pandas와 mlxtend 미리 설치해야 함\n",
    "import pandas as pd\n",
    "from mlxtend.preprocessing import TransactionEncoder\n",
    "from mlxtend.frequent_patterns import apriori\n",
    "from mlxtend.frequent_patterns import association_rules"
   ]
  },
  {
   "cell_type": "code",
   "execution_count": null,
   "metadata": {},
   "outputs": [],
   "source": [
    "# 연관분석할 데이터셋\n",
    "dataset = [~~~]"
   ]
  },
  {
   "cell_type": "code",
   "execution_count": null,
   "metadata": {},
   "outputs": [],
   "source": [
    "# 데이터셋을 원핫인코딩처럼 트랜스포밍해주기!\n",
    "te = TransactionEncoder()\n",
    "te_result = te.fit(dataset).transfrom(dataset)"
   ]
  },
  {
   "cell_type": "code",
   "execution_count": null,
   "metadata": {},
   "outputs": [],
   "source": [
    "# 트랜스포밍된 결과를 데이터프레임으로 형성\n",
    "# 컬럼명이 키워드 / 각 row마다 포함된 키워드에 True를 반환\n",
    "df = pd.DataFrame(te_result)\n",
    "display(df)"
   ]
  },
  {
   "cell_type": "code",
   "execution_count": null,
   "metadata": {},
   "outputs": [],
   "source": [
    "# apriori 알고리즘 사용 / 옵션을 주지 않으면 자동으로 지지도 0.5\n",
    "keywordset = apriori(df, use_colnames=True)\n",
    "keywordset"
   ]
  },
  {
   "cell_type": "code",
   "execution_count": null,
   "metadata": {},
   "outputs": [],
   "source": [
    "# 지지도를 0.1로 낮춰서 apriori 실행\n",
    "keywordset = apriori(df, min_support=0.1, use_colnames=True)\n",
    "keywordset"
   ]
  },
  {
   "cell_type": "code",
   "execution_count": null,
   "metadata": {},
   "outputs": [],
   "source": [
    "# 신뢰도 추가 / 기본값은 0.8 / 낮게 설정해야 목록이 나옴 / 0.1로 설정\n",
    "association_rules(keywordset, metric=\"confidence\", min_threshold=0.1)"
   ]
  },
  {
   "cell_type": "code",
   "execution_count": null,
   "metadata": {},
   "outputs": [],
   "source": []
  }
 ],
 "metadata": {
  "kernelspec": {
   "display_name": "pydatavenv",
   "language": "python",
   "name": "pydatavenv"
  },
  "language_info": {
   "codemirror_mode": {
    "name": "ipython",
    "version": 3
   },
   "file_extension": ".py",
   "mimetype": "text/x-python",
   "name": "python",
   "nbconvert_exporter": "python",
   "pygments_lexer": "ipython3",
   "version": "3.7.9"
  }
 },
 "nbformat": 4,
 "nbformat_minor": 4
}
