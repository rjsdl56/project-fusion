{
 "cells": [
  {
   "cell_type": "markdown",
   "metadata": {},
   "source": [
    "# Maria DB 대비 분석 준비"
   ]
  },
  {
   "cell_type": "markdown",
   "metadata": {},
   "source": [
    "## **pymysql을 이용한 MariaDB 연동**\n",
    "#### connect() 함수를 이용하면 MySQL host내 DB와 직접 연결할 수 있다.\n",
    "\n",
    "####    user: user name\n",
    "####    passwd: 설정한 패스워드\n",
    "####    host: DB가 존재하는 host\n",
    "####    db: 연결할 데이터베이스 이름\n",
    "####    charset: 인코딩 설정"
   ]
  },
  {
   "cell_type": "code",
   "execution_count": null,
   "metadata": {},
   "outputs": [],
   "source": [
    "# AWS와 연결하여 서버에 접속해보자 !! \n",
    "# 서버에 접속\n",
    "import pymysql\n",
    "conn = pymysql.connect(host='multi-bigdata.cljkqcsbb9ok.ap-northeast-2.rds.amazonaws.com',\n",
    "                       port=3306,\n",
    "                       user='edu04',\n",
    "                       passwd='edu04', \n",
    "                       db='unicodb')\n",
    "# charset을 안주면 기본 utf-8\n",
    "print(conn) # 커넥션이라는 클래스 // 서버주소, 포트번호, 계정, 비밀번호 등이 잘못되면 에러"
   ]
  },
  {
   "cell_type": "markdown",
   "metadata": {},
   "source": [
    "### 이제 서버에 접속했으니 서버 내 데이터를 어떻게 추출하고 다룰 지 공부해보자"
   ]
  },
  {
   "cell_type": "markdown",
   "metadata": {},
   "source": [
    "### Cursor 객체 생성\n",
    "#### 연결한 DB와 상호작용하기 위해 cursor 객체를 생성해주어야 한다.\n",
    "#### 다양한 커서의 종류가 있지만,\n",
    "#### 데이터 분석가에게 익숙한 데이터프레임 형태로 결과를 쉽게 변환할 수 있도록\n",
    "#### **딕셔너리** 형태로 결과를 반환해주는 **DictCursor**객체를 주로 사용한다.\n",
    "#### 일반 **Cursor**객체를 사용하면 결과가 일반적으로는 **튜플** 형태로 리턴된다.\n",
    "\n",
    "##### 커서객체 참고 : https://ko.wikipedia.org/wiki/%EB%8D%B0%EC%9D%B4%ED%84%B0%EB%B2%A0%EC%9D%B4%EC%8A%A4_%EC%BB%A4%EC%84%9C\n",
    "----\n",
    "#### SELECT 명령을 위해 SQL 문을 따로 변수에 넣어주고 cursor.execute(sql) 을 사용해 SQL를 실행한다.\n",
    "#### 실행한 결과를 fetchall(), fetchone() 등으로 받아 온다.\n",
    "\n",
    "#### **fetchall()** - 모든 데이터를 한 번에 가져올 때 사용\n",
    "#### **fetchone()** - 한 번 호출에 하나의 행만 가져올 때 사용\n",
    "#### **fetchmany(n)** - n개만큼의 데이터를 가져올 때 사용"
   ]
  },
  {
   "cell_type": "markdown",
   "metadata": {},
   "source": [
    "#### SQL 정리\n",
    "select 이후에는 조회하려는 컬럼 이름을 기술\n",
    "- 보통 , 를 써서 여러 개 선택 가능(기술된 순서로 표시)\n",
    "- `*`를 주면 모든 컬럼을 가져온다 (하나씩 써주는 게 연산속도가 더 빠름)\n",
    "- 컬럼에 산술식을 적용하여, 해당 산술식이 적용된 컬름을 받을 수 있음\n",
    "- 컬럼 뒤에 AS를 붙여 컬럼 이름을 바꿀 수 있다. 이때 숫자나 특수문자가 바꿀 이름에 있는 경우 \"\"표 처리한다.\n",
    "- 임의의 문자열을 AS로 지정해 컬럼을 만들 수 있다.\n",
    "- 중복되는 값을 피하기 위해서는 distinct를 컬럼 앞에 줄 수 있다. (select 절에서 1회만 가능, 컬럼별로 적용 불가능)\n",
    "- '연결연산자'를 이용해 값을 연결한 새로운 컬럼을 만들 수 있다.\n",
    "\n",
    "\n",
    "from 이후에는 조회 대상 컬럼이 포함된 테이블 이름을 기술\n",
    "\n",
    "where 이후에는 행을 선택하는 조건을 기술\n",
    "- 제한 조건을 여러 개 포함 가능\n",
    "- 제한 조건을 만족하는 것만 출력\n"
   ]
  },
  {
   "cell_type": "code",
   "execution_count": null,
   "metadata": {},
   "outputs": [],
   "source": [
    "# 서버에 연결한 뒤 데이터를 \n",
    "import pymysql\n",
    "# 딕셔너리 커서 객체로 생성\n",
    "conn = pymysql.connect(host='multi-bigdata.cljkqcsbb9ok.ap-northeast-2.rds.amazonaws.com',\n",
    "                       port=3306,\n",
    "                       user='edu04',\n",
    "                       passwd='edu04', \n",
    "                       db='unicodb', \n",
    "                       cursorclass=pymysql.cursors.DictCursor)\n",
    "try:\n",
    "    cur = conn.cursor() # 커서 객체 생성\n",
    "    print(\"-----------------------\")\n",
    "    sql = 'SELECT * FROM emp' # SQL 함수 부분\n",
    "    cur.execute(sql) # SQL 명령 실행\n",
    "    result = cur.fetchall() # 모두 불러오기\n",
    "    print(result)\n",
    "    print(\"----------------------------------------------\")\n",
    "finally:\n",
    "    conn.close()"
   ]
  },
  {
   "cell_type": "code",
   "execution_count": null,
   "metadata": {},
   "outputs": [],
   "source": []
  },
  {
   "cell_type": "code",
   "execution_count": null,
   "metadata": {},
   "outputs": [],
   "source": []
  },
  {
   "cell_type": "code",
   "execution_count": null,
   "metadata": {},
   "outputs": [],
   "source": []
  },
  {
   "cell_type": "code",
   "execution_count": null,
   "metadata": {},
   "outputs": [],
   "source": []
  },
  {
   "cell_type": "code",
   "execution_count": null,
   "metadata": {},
   "outputs": [],
   "source": []
  }
 ],
 "metadata": {
  "kernelspec": {
   "display_name": "pydatavenv",
   "language": "python",
   "name": "pydatavenv"
  },
  "language_info": {
   "codemirror_mode": {
    "name": "ipython",
    "version": 3
   },
   "file_extension": ".py",
   "mimetype": "text/x-python",
   "name": "python",
   "nbconvert_exporter": "python",
   "pygments_lexer": "ipython3",
   "version": "3.7.9"
  }
 },
 "nbformat": 4,
 "nbformat_minor": 4
}
