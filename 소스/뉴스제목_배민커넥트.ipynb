{
 "cells": [
  {
   "cell_type": "markdown",
   "metadata": {},
   "source": [
    "## 배민커넥트, 배민커넥터 안전 구글 기사 크롤링"
   ]
  },
  {
   "cell_type": "code",
   "execution_count": 70,
   "metadata": {},
   "outputs": [
    {
     "name": "stdout",
     "output_type": "stream",
     "text": [
      "0페이지2번째 기사에서 오류가 발생했습니다.\n",
      "2페이지6번째 기사에서 오류가 발생했습니다.\n",
      "3페이지2번째 기사에서 오류가 발생했습니다.\n",
      "4페이지1번째 기사에서 오류가 발생했습니다.\n",
      "10페이지3번째 기사에서 오류가 발생했습니다.\n",
      "12페이지6번째 기사에서 오류가 발생했습니다.\n"
     ]
    }
   ],
   "source": [
    "from selenium import webdriver\n",
    "from selenium.webdriver.common.keys import Keys # 엔터키 입력용\n",
    "import pandas as pd\n",
    "\n",
    "driver = webdriver.Chrome('C:/Temp/chromedriver') # 웹드라이버 객체 생성\n",
    "\n",
    "# 구글을 열어서 배민커넥트까지 입력 후 이동\n",
    "driver.get('http://www.google.com') # 구글 홈페이지 내용 렌더링\n",
    "target=driver.find_element_by_css_selector(\"[name = 'q']\") # 검색어 지정\n",
    "target.send_keys('배달대행') # 타겟에 '파이썬' 입력\n",
    "target.send_keys(Keys.ENTER) # 엔터처리\n",
    "\n",
    "# 뉴스 페이지로 이동\n",
    "news = driver.find_element_by_css_selector('#hdtb-msb-vis > div:nth-child(3) > a')\n",
    "news.click()\n",
    "\n",
    "# 뉴스 헤드라인 수집\n",
    "news_title = []\n",
    "news_press = []\n",
    "\n",
    "# 알고리즘을 짜보자\n",
    "# 다음 페이지 -> #pnnext > span:nth-child(2) // 이걸 19번해야 함 / 마지막에 누르자\n",
    "for i in range(19):\n",
    "    \n",
    "# 한페이지당 뉴스타이틀, 언론사 10개 수집\n",
    "    for k in range(1,11):\n",
    "        try : \n",
    "            title_address = '#rso > div:nth-child('+ str(k) +') > g-card > div > div > div.dbsr > a > div > div.hI5pFf > div.JheGif.nDgy9d'\n",
    "            title = driver.find_element_by_css_selector(title_address)\n",
    "            news_title.append(title.text)\n",
    "            press_address = '#rso > div:nth-child('+ str(k) +') > g-card > div > div > div.dbsr > a > div > div.hI5pFf > div.XTjFC.WF4CUc'\n",
    "            press = driver.find_element_by_css_selector(press_address)\n",
    "            news_press.append(press.text)\n",
    "        except :\n",
    "            print(str(i) + \"페이지\" +str(k) +\"번째 기사에서 오류가 발생했습니다.\")\n",
    "    next_btn = driver.find_element_by_css_selector('#pnnext > span:nth-child(2)')\n",
    "    next_btn.click()\n",
    "    \n",
    "\n",
    "\n",
    "#rso > div:nth-child(1) > div > div.yuRUbf > a > h3 > span"
   ]
  },
  {
   "cell_type": "code",
   "execution_count": 72,
   "metadata": {},
   "outputs": [
    {
     "data": {
      "text/html": [
       "<div>\n",
       "<style scoped>\n",
       "    .dataframe tbody tr th:only-of-type {\n",
       "        vertical-align: middle;\n",
       "    }\n",
       "\n",
       "    .dataframe tbody tr th {\n",
       "        vertical-align: top;\n",
       "    }\n",
       "\n",
       "    .dataframe thead th {\n",
       "        text-align: right;\n",
       "    }\n",
       "</style>\n",
       "<table border=\"1\" class=\"dataframe\">\n",
       "  <thead>\n",
       "    <tr style=\"text-align: right;\">\n",
       "      <th></th>\n",
       "      <th>0</th>\n",
       "    </tr>\n",
       "  </thead>\n",
       "  <tbody>\n",
       "    <tr>\n",
       "      <th>매일경제</th>\n",
       "      <td>스파이더크래프트, 다날과 배달대행시장 결제서비스 혁신 - 매일경제</td>\n",
       "    </tr>\n",
       "    <tr>\n",
       "      <th>논객닷컴</th>\n",
       "      <td>배달 근로자 실태 현장 목소리....\"배달대행 선점업체 횡포 막아야 ...</td>\n",
       "    </tr>\n",
       "    <tr>\n",
       "      <th>IT조선</th>\n",
       "      <td>네이버, 배달대행 '생각대로'에 400억 투자 추진 - IT조선 &gt; 게임·라이프 &gt;...</td>\n",
       "    </tr>\n",
       "    <tr>\n",
       "      <th>데일리시큐</th>\n",
       "      <td>세종시 신규 배달 대행 플랫폼 '굿보이' 마케팅 지원 서비스 개시</td>\n",
       "    </tr>\n",
       "    <tr>\n",
       "      <th>동아일보</th>\n",
       "      <td>스타벅스도 배달 나선다</td>\n",
       "    </tr>\n",
       "    <tr>\n",
       "      <th>...</th>\n",
       "      <td>...</td>\n",
       "    </tr>\n",
       "    <tr>\n",
       "      <th>한국경제</th>\n",
       "      <td>배달앱들 \"두 바퀴보다 네 바퀴가 낫다\"…경차·초소형 전기차 '배달의 질주'</td>\n",
       "    </tr>\n",
       "    <tr>\n",
       "      <th>매일경제</th>\n",
       "      <td>`자토바이`를 아시나요…판 커진 배달 생태계 `꼼수`도 급증 - 매일경제</td>\n",
       "    </tr>\n",
       "    <tr>\n",
       "      <th>조선비즈</th>\n",
       "      <td>배달의민족, 배달원 1000명 이상 충원… \"배달 품질 향상\"</td>\n",
       "    </tr>\n",
       "    <tr>\n",
       "      <th>한국경제</th>\n",
       "      <td>창고형 편의점 떴다…나우픽 vs B마트 '배송전쟁'</td>\n",
       "    </tr>\n",
       "    <tr>\n",
       "      <th>뉴스핌</th>\n",
       "      <td>[코로나19] \"마스크 내리고 10분 대화했는데\"...송파 바로고 배달대행기사 확진</td>\n",
       "    </tr>\n",
       "  </tbody>\n",
       "</table>\n",
       "<p>184 rows × 1 columns</p>\n",
       "</div>"
      ],
      "text/plain": [
       "                                                       0\n",
       "매일경제                스파이더크래프트, 다날과 배달대행시장 결제서비스 혁신 - 매일경제\n",
       "논객닷컴           배달 근로자 실태 현장 목소리....\"배달대행 선점업체 횡포 막아야 ...\n",
       "IT조선   네이버, 배달대행 '생각대로'에 400억 투자 추진 - IT조선 > 게임·라이프 >...\n",
       "데일리시큐               세종시 신규 배달 대행 플랫폼 '굿보이' 마케팅 지원 서비스 개시\n",
       "동아일보                                        스타벅스도 배달 나선다\n",
       "...                                                  ...\n",
       "한국경제          배달앱들 \"두 바퀴보다 네 바퀴가 낫다\"…경차·초소형 전기차 '배달의 질주'\n",
       "매일경제            `자토바이`를 아시나요…판 커진 배달 생태계 `꼼수`도 급증 - 매일경제\n",
       "조선비즈                  배달의민족, 배달원 1000명 이상 충원… \"배달 품질 향상\"\n",
       "한국경제                        창고형 편의점 떴다…나우픽 vs B마트 '배송전쟁'\n",
       "뉴스핌       [코로나19] \"마스크 내리고 10분 대화했는데\"...송파 바로고 배달대행기사 확진\n",
       "\n",
       "[184 rows x 1 columns]"
      ]
     },
     "metadata": {},
     "output_type": "display_data"
    }
   ],
   "source": [
    "import pandas as pd\n",
    "\n",
    "df = pd.DataFrame(news_title, news_press)\n",
    "display(df)\n",
    "df.to_excel('./fusion/data/뉴스_배달대행.xlsx')"
   ]
  },
  {
   "cell_type": "markdown",
   "metadata": {},
   "source": [
    "## 키워드 추출"
   ]
  },
  {
   "cell_type": "code",
   "execution_count": null,
   "metadata": {},
   "outputs": [],
   "source": [
    "df = pd.read_excel('./fusion/data/뉴스_배달대행.xlsx')"
   ]
  },
  {
   "cell_type": "code",
   "execution_count": 58,
   "metadata": {},
   "outputs": [],
   "source": [
    "import re\n",
    "\n",
    "# 텍스트 정제 함수 : 한글 이외의 문자는 전부 제거합니다.\n",
    "def text_cleaning(text):\n",
    "    hangul = re.compile('[^ ㄱ-ㅣ가-힣]+') # 한글 처음부터 끝을 알리는 정규표현식\n",
    "    result = hangul.sub('', text)\n",
    "    return result"
   ]
  },
  {
   "cell_type": "code",
   "execution_count": 59,
   "metadata": {},
   "outputs": [
    {
     "data": {
      "text/html": [
       "<div>\n",
       "<style scoped>\n",
       "    .dataframe tbody tr th:only-of-type {\n",
       "        vertical-align: middle;\n",
       "    }\n",
       "\n",
       "    .dataframe tbody tr th {\n",
       "        vertical-align: top;\n",
       "    }\n",
       "\n",
       "    .dataframe thead th {\n",
       "        text-align: right;\n",
       "    }\n",
       "</style>\n",
       "<table border=\"1\" class=\"dataframe\">\n",
       "  <thead>\n",
       "    <tr style=\"text-align: right;\">\n",
       "      <th></th>\n",
       "      <th>Unnamed: 0</th>\n",
       "      <th>0</th>\n",
       "    </tr>\n",
       "  </thead>\n",
       "  <tbody>\n",
       "    <tr>\n",
       "      <th>176</th>\n",
       "      <td>매일노동뉴스</td>\n",
       "      <td>지상중계 노동자 건강권포럼 안전보건 새로운 년 여는</td>\n",
       "    </tr>\n",
       "    <tr>\n",
       "      <th>177</th>\n",
       "      <td>매일노동뉴스</td>\n",
       "      <td>꺾이고 무너지는 소형 타워크레인</td>\n",
       "    </tr>\n",
       "    <tr>\n",
       "      <th>178</th>\n",
       "      <td>매일노동뉴스</td>\n",
       "      <td>산업안전보건법 개정 정치는 무능했고 어머니는 강했다</td>\n",
       "    </tr>\n",
       "    <tr>\n",
       "      <th>179</th>\n",
       "      <td>매일노동뉴스</td>\n",
       "      <td>김용균재단 출범 차별없고 안전한 일터 만들겠다</td>\n",
       "    </tr>\n",
       "    <tr>\n",
       "      <th>180</th>\n",
       "      <td>매일노동뉴스</td>\n",
       "      <td>감정노동자 보호 산업안전보건법 시행 의미</td>\n",
       "    </tr>\n",
       "  </tbody>\n",
       "</table>\n",
       "</div>"
      ],
      "text/plain": [
       "    Unnamed: 0                              0\n",
       "176     매일노동뉴스  지상중계 노동자 건강권포럼 안전보건 새로운 년 여는 \n",
       "177     매일노동뉴스              꺾이고 무너지는 소형 타워크레인\n",
       "178     매일노동뉴스   산업안전보건법 개정 정치는 무능했고 어머니는 강했다\n",
       "179     매일노동뉴스      김용균재단 출범 차별없고 안전한 일터 만들겠다\n",
       "180     매일노동뉴스         감정노동자 보호 산업안전보건법 시행 의미"
      ]
     },
     "execution_count": 59,
     "metadata": {},
     "output_type": "execute_result"
    }
   ],
   "source": [
    "df[0] = df[0].apply(lambda x: text_cleaning(x))\n",
    "df.tail()"
   ]
  },
  {
   "cell_type": "code",
   "execution_count": 60,
   "metadata": {},
   "outputs": [],
   "source": [
    "from konlpy.tag import Okt\n",
    "from collections import Counter\n",
    "\n",
    "# 한국어 약식 불용어사전 예시 파일입니다. 출처 - (https://www.ranks.nl/stopwords/korean)\n",
    "korean_stopwords_path = \"./fusion/data/korean_stopwords.txt\"\n",
    "with open(korean_stopwords_path, encoding='utf8') as f:\n",
    "    stopwords = f.readlines()\n",
    "stopwords = [x.strip() for x in stopwords]\n",
    "\n",
    "def get_nouns(x):\n",
    "    nouns_tagger = Okt()\n",
    "    nouns = nouns_tagger.nouns(x)\n",
    "    \n",
    "    # 한글자 키워드를 제거합니다.\n",
    "    nouns = [noun for noun in nouns if len(noun) > 1]\n",
    "    \n",
    "    # 불용어를 제거합니다.\n",
    "    nouns = [noun for noun in nouns if noun not in stopwords]\n",
    "    \n",
    "    return nouns"
   ]
  },
  {
   "cell_type": "code",
   "execution_count": 62,
   "metadata": {},
   "outputs": [
    {
     "name": "stdout",
     "output_type": "stream",
     "text": [
      "(181, 2)\n"
     ]
    },
    {
     "data": {
      "text/html": [
       "<div>\n",
       "<style scoped>\n",
       "    .dataframe tbody tr th:only-of-type {\n",
       "        vertical-align: middle;\n",
       "    }\n",
       "\n",
       "    .dataframe tbody tr th {\n",
       "        vertical-align: top;\n",
       "    }\n",
       "\n",
       "    .dataframe thead th {\n",
       "        text-align: right;\n",
       "    }\n",
       "</style>\n",
       "<table border=\"1\" class=\"dataframe\">\n",
       "  <thead>\n",
       "    <tr style=\"text-align: right;\">\n",
       "      <th></th>\n",
       "      <th>Unnamed: 0</th>\n",
       "      <th>0</th>\n",
       "    </tr>\n",
       "  </thead>\n",
       "  <tbody>\n",
       "    <tr>\n",
       "      <th>176</th>\n",
       "      <td>매일노동뉴스</td>\n",
       "      <td>[지상, 중계, 노동자, 건강, 포럼, 안전, 보건]</td>\n",
       "    </tr>\n",
       "    <tr>\n",
       "      <th>177</th>\n",
       "      <td>매일노동뉴스</td>\n",
       "      <td>[소형, 타워, 크레인]</td>\n",
       "    </tr>\n",
       "    <tr>\n",
       "      <th>178</th>\n",
       "      <td>매일노동뉴스</td>\n",
       "      <td>[산업, 안전, 보건, 개정, 정치, 어머니]</td>\n",
       "    </tr>\n",
       "    <tr>\n",
       "      <th>179</th>\n",
       "      <td>매일노동뉴스</td>\n",
       "      <td>[김용균, 재단, 출범, 차별, 일터]</td>\n",
       "    </tr>\n",
       "    <tr>\n",
       "      <th>180</th>\n",
       "      <td>매일노동뉴스</td>\n",
       "      <td>[감정노동자, 보호, 산업, 안전, 보건, 시행, 의미]</td>\n",
       "    </tr>\n",
       "  </tbody>\n",
       "</table>\n",
       "</div>"
      ],
      "text/plain": [
       "    Unnamed: 0                                0\n",
       "176     매일노동뉴스    [지상, 중계, 노동자, 건강, 포럼, 안전, 보건]\n",
       "177     매일노동뉴스                    [소형, 타워, 크레인]\n",
       "178     매일노동뉴스        [산업, 안전, 보건, 개정, 정치, 어머니]\n",
       "179     매일노동뉴스            [김용균, 재단, 출범, 차별, 일터]\n",
       "180     매일노동뉴스  [감정노동자, 보호, 산업, 안전, 보건, 시행, 의미]"
      ]
     },
     "execution_count": 62,
     "metadata": {},
     "output_type": "execute_result"
    }
   ],
   "source": [
    "# ‘ko_text’ 피처에 이를 적용합니다.\n",
    "# display(df[0])\n",
    "df['요약'] = df[0].apply(lambda x: get_nouns(x))\n",
    "print(df.shape)\n",
    "df.tail()"
   ]
  },
  {
   "cell_type": "code",
   "execution_count": 63,
   "metadata": {},
   "outputs": [],
   "source": [
    "df.to_excel('./fusion/data/뉴스_배민커넥터 안전.xlsx')"
   ]
  },
  {
   "cell_type": "markdown",
   "metadata": {},
   "source": [
    "## 연관분석"
   ]
  },
  {
   "cell_type": "code",
   "execution_count": 44,
   "metadata": {},
   "outputs": [
    {
     "name": "stdout",
     "output_type": "stream",
     "text": [
      "RelationRecord(items=frozenset({'배민'}), support=0.3333333333333333, ordered_statistics=[OrderedStatistic(items_base=frozenset(), items_add=frozenset({'배민'}), confidence=0.3333333333333333, lift=1.0)])\n",
      "RelationRecord(items=frozenset({'소득'}), support=0.3333333333333333, ordered_statistics=[OrderedStatistic(items_base=frozenset(), items_add=frozenset({'소득'}), confidence=0.3333333333333333, lift=1.0)])\n",
      "RelationRecord(items=frozenset({'안전'}), support=0.6666666666666666, ordered_statistics=[OrderedStatistic(items_base=frozenset(), items_add=frozenset({'안전'}), confidence=0.6666666666666666, lift=1.0)])\n",
      "RelationRecord(items=frozenset({'커넥터'}), support=0.3333333333333333, ordered_statistics=[OrderedStatistic(items_base=frozenset(), items_add=frozenset({'커넥터'}), confidence=0.3333333333333333, lift=1.0)])\n",
      "RelationRecord(items=frozenset({'현실'}), support=0.3333333333333333, ordered_statistics=[OrderedStatistic(items_base=frozenset(), items_add=frozenset({'현실'}), confidence=0.3333333333333333, lift=1.0)])\n",
      "RelationRecord(items=frozenset({'후기'}), support=0.3333333333333333, ordered_statistics=[OrderedStatistic(items_base=frozenset(), items_add=frozenset({'후기'}), confidence=0.3333333333333333, lift=1.0)])\n",
      "RelationRecord(items=frozenset({'커넥터', '배민'}), support=0.3333333333333333, ordered_statistics=[OrderedStatistic(items_base=frozenset(), items_add=frozenset({'커넥터', '배민'}), confidence=0.3333333333333333, lift=1.0), OrderedStatistic(items_base=frozenset({'배민'}), items_add=frozenset({'커넥터'}), confidence=1.0, lift=3.0), OrderedStatistic(items_base=frozenset({'커넥터'}), items_add=frozenset({'배민'}), confidence=1.0, lift=3.0)])\n",
      "RelationRecord(items=frozenset({'후기', '배민'}), support=0.3333333333333333, ordered_statistics=[OrderedStatistic(items_base=frozenset(), items_add=frozenset({'후기', '배민'}), confidence=0.3333333333333333, lift=1.0), OrderedStatistic(items_base=frozenset({'배민'}), items_add=frozenset({'후기'}), confidence=1.0, lift=3.0), OrderedStatistic(items_base=frozenset({'후기'}), items_add=frozenset({'배민'}), confidence=1.0, lift=3.0)])\n",
      "RelationRecord(items=frozenset({'안전', '소득'}), support=0.3333333333333333, ordered_statistics=[OrderedStatistic(items_base=frozenset(), items_add=frozenset({'안전', '소득'}), confidence=0.3333333333333333, lift=1.0), OrderedStatistic(items_base=frozenset({'소득'}), items_add=frozenset({'안전'}), confidence=1.0, lift=1.5), OrderedStatistic(items_base=frozenset({'안전'}), items_add=frozenset({'소득'}), confidence=0.5, lift=1.5)])\n",
      "RelationRecord(items=frozenset({'현실', '안전'}), support=0.3333333333333333, ordered_statistics=[OrderedStatistic(items_base=frozenset(), items_add=frozenset({'안전', '현실'}), confidence=0.3333333333333333, lift=1.0), OrderedStatistic(items_base=frozenset({'안전'}), items_add=frozenset({'현실'}), confidence=0.5, lift=1.5), OrderedStatistic(items_base=frozenset({'현실'}), items_add=frozenset({'안전'}), confidence=1.0, lift=1.5)])\n",
      "RelationRecord(items=frozenset({'후기', '커넥터'}), support=0.3333333333333333, ordered_statistics=[OrderedStatistic(items_base=frozenset(), items_add=frozenset({'후기', '커넥터'}), confidence=0.3333333333333333, lift=1.0), OrderedStatistic(items_base=frozenset({'커넥터'}), items_add=frozenset({'후기'}), confidence=1.0, lift=3.0), OrderedStatistic(items_base=frozenset({'후기'}), items_add=frozenset({'커넥터'}), confidence=1.0, lift=3.0)])\n",
      "RelationRecord(items=frozenset({'후기', '커넥터', '배민'}), support=0.3333333333333333, ordered_statistics=[OrderedStatistic(items_base=frozenset(), items_add=frozenset({'후기', '커넥터', '배민'}), confidence=0.3333333333333333, lift=1.0), OrderedStatistic(items_base=frozenset({'배민'}), items_add=frozenset({'후기', '커넥터'}), confidence=1.0, lift=3.0), OrderedStatistic(items_base=frozenset({'커넥터'}), items_add=frozenset({'후기', '배민'}), confidence=1.0, lift=3.0), OrderedStatistic(items_base=frozenset({'후기'}), items_add=frozenset({'커넥터', '배민'}), confidence=1.0, lift=3.0), OrderedStatistic(items_base=frozenset({'커넥터', '배민'}), items_add=frozenset({'후기'}), confidence=1.0, lift=3.0), OrderedStatistic(items_base=frozenset({'후기', '배민'}), items_add=frozenset({'커넥터'}), confidence=1.0, lift=3.0), OrderedStatistic(items_base=frozenset({'후기', '커넥터'}), items_add=frozenset({'배민'}), confidence=1.0, lift=3.0)])\n"
     ]
    }
   ],
   "source": [
    "from apyori import apriori\n",
    "\n",
    "# 장바구니 형태의 데이터(트랜잭션 데이터)를 생성\n",
    "transactions = [\n",
    "    ['안전', '현실'],\n",
    "    ['안전', '소득'],\n",
    "    ['배민', '커넥터', '후기']\n",
    "]\n",
    "\n",
    "# 연관 분석을 수행\n",
    "results = list(apriori(transactions))\n",
    "for result in results:\n",
    "    print(result)"
   ]
  },
  {
   "cell_type": "code",
   "execution_count": 46,
   "metadata": {},
   "outputs": [
    {
     "data": {
      "text/html": [
       "<div>\n",
       "<style scoped>\n",
       "    .dataframe tbody tr th:only-of-type {\n",
       "        vertical-align: middle;\n",
       "    }\n",
       "\n",
       "    .dataframe tbody tr th {\n",
       "        vertical-align: top;\n",
       "    }\n",
       "\n",
       "    .dataframe thead th {\n",
       "        text-align: right;\n",
       "    }\n",
       "</style>\n",
       "<table border=\"1\" class=\"dataframe\">\n",
       "  <thead>\n",
       "    <tr style=\"text-align: right;\">\n",
       "      <th></th>\n",
       "      <th>source</th>\n",
       "      <th>target</th>\n",
       "      <th>support</th>\n",
       "    </tr>\n",
       "  </thead>\n",
       "  <tbody>\n",
       "    <tr>\n",
       "      <th>0</th>\n",
       "      <td>커넥터</td>\n",
       "      <td>배민</td>\n",
       "      <td>0.333333</td>\n",
       "    </tr>\n",
       "    <tr>\n",
       "      <th>1</th>\n",
       "      <td>후기</td>\n",
       "      <td>배민</td>\n",
       "      <td>0.333333</td>\n",
       "    </tr>\n",
       "    <tr>\n",
       "      <th>2</th>\n",
       "      <td>안전</td>\n",
       "      <td>소득</td>\n",
       "      <td>0.333333</td>\n",
       "    </tr>\n",
       "    <tr>\n",
       "      <th>3</th>\n",
       "      <td>현실</td>\n",
       "      <td>안전</td>\n",
       "      <td>0.333333</td>\n",
       "    </tr>\n",
       "    <tr>\n",
       "      <th>4</th>\n",
       "      <td>후기</td>\n",
       "      <td>커넥터</td>\n",
       "      <td>0.333333</td>\n",
       "    </tr>\n",
       "  </tbody>\n",
       "</table>\n",
       "</div>"
      ],
      "text/plain": [
       "  source target   support\n",
       "0    커넥터     배민  0.333333\n",
       "1     후기     배민  0.333333\n",
       "2     안전     소득  0.333333\n",
       "3     현실     안전  0.333333\n",
       "4     후기    커넥터  0.333333"
      ]
     },
     "execution_count": 46,
     "metadata": {},
     "output_type": "execute_result"
    }
   ],
   "source": [
    "# 데이터 프레임 형태로 정리\n",
    "columns = ['source', 'target', 'support']\n",
    "network_news = pd.DataFrame(columns=columns)\n",
    "\n",
    "# 규칙의 조건절을 source, 결과절을 target, 지지도를 support 라는 데이터 프레임의 피처로 변환\n",
    "for result in results:\n",
    "    if len(result.items) == 2:\n",
    "        items = [x for x in result.items]\n",
    "        row = [items[0], items[1], result.support]\n",
    "        series = pd.Series(row, index=network_news.columns)\n",
    "        network_news = network_news.append(series, ignore_index=True)\n",
    "\n",
    "network_news.head()"
   ]
  },
  {
   "cell_type": "code",
   "execution_count": 47,
   "metadata": {},
   "outputs": [
    {
     "ename": "NameError",
     "evalue": "name 'tweet' is not defined",
     "output_type": "error",
     "traceback": [
      "\u001b[1;31m---------------------------------------------------------------------------\u001b[0m",
      "\u001b[1;31mNameError\u001b[0m                                 Traceback (most recent call last)",
      "\u001b[1;32m<ipython-input-47-8d69d227d80c>\u001b[0m in \u001b[0;36m<module>\u001b[1;34m\u001b[0m\n\u001b[0;32m      1\u001b[0m \u001b[1;31m# 트랜잭션 데이터를 추출\u001b[0m\u001b[1;33m\u001b[0m\u001b[1;33m\u001b[0m\u001b[1;33m\u001b[0m\u001b[0m\n\u001b[1;32m----> 2\u001b[1;33m \u001b[0mtransactions\u001b[0m \u001b[1;33m=\u001b[0m \u001b[0mtweet\u001b[0m\u001b[1;33m[\u001b[0m\u001b[1;34m'nouns'\u001b[0m\u001b[1;33m]\u001b[0m\u001b[1;33m.\u001b[0m\u001b[0mtolist\u001b[0m\u001b[1;33m(\u001b[0m\u001b[1;33m)\u001b[0m\u001b[1;33m\u001b[0m\u001b[1;33m\u001b[0m\u001b[0m\n\u001b[0m\u001b[0;32m      3\u001b[0m \u001b[1;31m#transactions = [transaction for transaction in transactions if transaction] # 공백 문자열을 방지합니다.\u001b[0m\u001b[1;33m\u001b[0m\u001b[1;33m\u001b[0m\u001b[1;33m\u001b[0m\u001b[0m\n\u001b[0;32m      4\u001b[0m \u001b[0mprint\u001b[0m\u001b[1;33m(\u001b[0m\u001b[0mtransactions\u001b[0m\u001b[1;33m[\u001b[0m\u001b[1;33m:\u001b[0m\u001b[1;36m10\u001b[0m\u001b[1;33m]\u001b[0m\u001b[1;33m)\u001b[0m\u001b[1;33m\u001b[0m\u001b[1;33m\u001b[0m\u001b[0m\n",
      "\u001b[1;31mNameError\u001b[0m: name 'tweet' is not defined"
     ]
    }
   ],
   "source": [
    "# 트랜잭션 데이터를 추출\n",
    "transactions = tweet['nouns'].tolist()\n",
    "#transactions = [transaction for transaction in transactions if transaction] # 공백 문자열을 방지합니다.\n",
    "print(transactions[:10])"
   ]
  },
  {
   "cell_type": "code",
   "execution_count": null,
   "metadata": {},
   "outputs": [],
   "source": [
    "# 연관 분석을 수행합니다.\n",
    "results = list(apriori(transactions,\n",
    "                        min_support=0.1))\n",
    "print(results) "
   ]
  },
  {
   "cell_type": "code",
   "execution_count": null,
   "metadata": {},
   "outputs": [],
   "source": []
  },
  {
   "cell_type": "code",
   "execution_count": null,
   "metadata": {},
   "outputs": [],
   "source": []
  },
  {
   "cell_type": "markdown",
   "metadata": {},
   "source": [
    "## 구글 기사 단어 추출"
   ]
  },
  {
   "cell_type": "code",
   "execution_count": 39,
   "metadata": {},
   "outputs": [
    {
     "name": "stdout",
     "output_type": "stream",
     "text": [
      "먼 곳 배차해주는 이놈, 속을 모르겠네혁신의 '뽕' 배달앱, 법과 규제마저 무력화한다국내 최초 플랫폼 노동 협약은 어떻게 탄생했나배민커넥트, 기자가 직접 해보니… 전동킥보드 5시간 배달, 4만 ...배민커넥터와 배민라이더는 다르다배달 라이더 연봉 1억? 10시간 15건 배달하고 번 돈은…'배민 라이더('배달의 민족' 배달원)' 안전교육은 단 5분, 사고나면 ...배달의민족, 배민커넥트 보험계약 면책 등 주요사항 빠져인천국제공항공사, 지속가능성지수 11년 연속 1위... 대한민국 ...“건물을 뚫고 갈 수는 없잖아요”…'배민라이더'는 내비보다 빠르다?“불법에도 당당한 배달앱… 혁신 아닌 헬조선식 플랫폼”[세모탈] 퇴근한 뒤 배민 커넥트로 출근! 4시간 일하고 번 돈은? - 서울경제자유와 불안 사이를 달리는 새로운 노동비즈한국[경제레시피] 쿠팡 플렉스·배민 커넥트·디버…일자리도 '공유경제 ...배달의민족 배달 알바 ‘배민커넥트’, 직접 해 봤습니다[르포] '배민 커넥트' 쏠쏠하네… 전기자전거 타고 2시간, 수입 3 ...절망의 공유경제... '배달의 민족' 너무한 거 아닙니까배달의민족-DB손보, 자전거·전동 킥보드 라이더 전용 보험 출시장성규도 한 이 알바 직접 해보니, 배달 음식이 달리 보이네3시간 2만6900원···新일자리 '배민 라이더' 최저시급 벅찼다 - 중앙일보라이더유니온 “'우아한형제들' 불공정행위 고발한다”누구나 배달의민족에서 배달하기, ‘배민커넥트’ 가동[배달의 세계] 4시간이면 나도 배달라이더... 걷고 타고 나른다수개월 수입 0…여행사 대표는 오늘도 '배달 콜'만 기다린다 - 중앙일보'도보 배달 서비스'로 더 뜨거워진 배달 시장…\"배달원 안전 대책 ...우아한형제들의 전혀 우아하지 않은 '노동 실험'기사 - 배달대행 알바, 배민라이더를 시작했다 3 : 멀고 먼 배달 ...배달앱들 \"두 바퀴보다 네 바퀴가 낫다\"…경차·초소형 전기차 '배달의 질주'놀 수는 없고… 코로나에 `배달알바` 뛰는 자영업자·휴직자 - 매일경제[해봤습니다-배민커넥트] ⑤'비오는 날' 2천원 더 주지만 '미끌'“퇴근길 운동 삼아 배달해요” 배민커넥트, 직접 해보니[해봤습니다-배민커넥트] ①사흘간 10시간 배달하고 9만6천원[불공정계약에 우는 배민라이더스] 배송대행 기본계약서에 “중상 ...배민·쿠팡 배달운전자의 '안전함' 보장...유상운송보험 상품 나왔다“배달앱은 헬조선식 플랫폼, 악플에 운전이 바뀌진 않죠” [인터뷰]배민 '우아한 형제들'…위법 일삼더니 우아하게 추락(?)'플랫폼 노동' 체험해보니…2시간 4건 배달에 손에 쥔 건 1만 ...배달의민족은 고마운데, 배달 라이더는 싫다고요?[현장에서] 연봉 1억원 배달기사는 실존할까음식 식고 떡되기 일쑤...배민라이더스 신규 시스템에 가맹점들 ...배달앱이 편의점도 위협, 조윤성 GS25 도보배달 빠르게 늘려 대응[체험기] 배민커넥트 투잡의 꿈, 시급 5천원으로 끝났다[배민커넥터는 되고 쿠팡이츠는 안 되고] 전속성 따지는 정부 ...'사회적 거리두기' 2.5단계 연장…'배달 대란' 장기화하나'보험이 필요한 시간 동안만 가입' 배달의민족식 시간제 이륜차 ...배민 뚜벅이 걸려서 화났었는데... 배민 뚜벅이가 뭐야?시간제 보험은 ‘긱 노동자’를 보호할까킥보드로 배달 나서는 배달맨들…안전문제 누가 책임지나배달앱 1위 '배달의 민족' 라이더의 눈물…\"우리가 실험용 쥐?\"19살 라이더, 사망하기 전 한달 하루 쉬고 일했다한배 탄 배민·요기요 점주·라이더 모셔라 - 매일경제[甲 된 배달앱]④배송시간 단축의 덫…\"라이더 구하기 어렵네\"배민·요기요 \"고객님, 선결제·비대면 배송 하세요\"\"마스크 지급하라\" 신종 코로나 확산에 배달기사도 '불안'서울시설공단, 공사현장 찾아가는 VR 안전교육... 시공사 관리자 ...폭염에도, 새벽에도 달리는 ‘배달의 투잡족’코로나19에 배달기사도 '공포'...\"비대면 배달 필요\"우버이츠 떠난 후…배민vs쿠팡 食배달 치킨게임이천 물류창고 화재는 안전관리지침 무시하다 사고... 화재사고 ...배달의민족, KB손해보험-스몰티켓과 '시간제 배달 기사 안전 운행' 업무협약 체결'번쩍배달 B마트' 무한경쟁 이커머스에 배민이 뛰어든 이유\"코로나19보다 일자리 잃는 게 두려워\"…배달업 호황이라지만 라이더는 떨고 있다 - 중앙일보클룩, 남이섬 안전한 비대면 입장 솔루션 제공... 모바일로 바로 ...[코로나19] 점주와 10분 대화한 배달원 확진…대책 없나모든 ‘일하는 사람’에게 노동법상 권리를넘치는 플랫폼 노동자...부족한 안전장치 \"근로자성 인정이 답\"[이슈&트렌드] '긱 이코노미' 시대에 등장한 '프리랜서 마켓'...이제 ...한국인증서비스, 100% 비대면 안전 거래 중고마켓 '두리안' 론칭질주하는 킥보드·車 공유시장, 보험은 걸음마한국공항공사, 하반기 신입사원 78명 채용... 16일 27일 까지 12 ...서울시, 하늘공원 한시적 폐쇄 금년 억새축제도 취소... 44일간 ...한국소비자원, 등받이가 경사진 바운서, 요람... 아기를 재우지 ...해수부, 5G 지능형 항만 시장 선도... 구축·활용 협력 양해각서 체결한국무예교육연구소, 한양여자대학교... 청소년수련원과 업무 ...한국관광공사, 7개 지역관광공사와 언택트관광지... 평택 바람 ...주부와 직장인이 '배달원'으로..쿠팡, 배민 이어 LG U+ 진출[월간 CEO&]양덕근 회장, 이웃과 나누고, 직원과 나누는 희망의 보금자리서울시 소방재난본부 최근 3년간 119구조대... 총 47만2천977건 ...연안선박 현대화펀드 3호 썬라이즈 제주호 명명식... 대형 카페리 ...비대면 중심 한국형 세일행사 대한민국 동행세일... 모바일 ...소자원, 전동휠체어 제품별로 주행 편리성... 배터리 성능 등 차이 ...KB국민은행, 한국금융연수원과 자산관리 콘텐츠... 제휴 업무 ...가정용 정수기, 주기적인 위생관리 필요... 취수부 코크 위생관리 ...'크라우드소싱'이 배달노동자에게 자율성을 가져다줄까?서울 사사다 출신 권봉석 디자이너, 하이엔드 데님... 브랜드 ...안전 위협하는 산책로 목재데크 60건 적발... 임시용접된 안전 ...비즈플레이- 씨와이, 비대면 경비지출관리... 솔루션 사업 공동 추진경기도가족여성연구원, 공동육아 문화 확산... 하하하 캠페인 진행[법·제도 허점투성인데] 플랫폼 노동, 디지털 특고 넘어 휴먼 ...“근로자 휴가지원사업, 휴~가 주라주라 랜선 페스티벌 개최”인천시 제11회 INK콘서트 국내・외 K-POP 성료... 전세계 600만명이 관람했다서울시, 야외무대‧자전거도로 태양광이 밝힌다... 월드컵‧뚝섬공원 체험시설예스24, 코로나19 극복 #덕분에챌린지 동참... CJ대한통운 지목 ...한국농수산대학,수시모집 일반전형 원서접수... 357명 선발 평균 ...펍지주식회사, 배틀그라운드 모바일 X 블랙핑크... 컬래버레이션 ...2025년, 교통체증 없는 도심 하늘길 열린다... 한국형 도심항공 ...서울시, 119구급대 7개대 63명 증설... 코로나19 환자 이송능력 ...舊서울역사-서울로 공중보행길 10월 개통... 옥상 그린 루프탑 변신GS리테일, 업계 최초로 드론 배송 체계 구축... 제주도·산업부 드론 배송 시연보험 가입 시 과거질병 등을 알리지 않으면... 보험금 지급 거절될 ...행정안전부, 택시표시등 전광류사용광고... 시범사업 고시 개정 ...우버이츠 한국사업 철수가 남긴 것이재욱 농림축산식품부 차관'대한민국 농할 갑시다!'... 캠페인 ...연안여객선 운항관리 비용부담금 한시적 납부유예... 최대 90 ...[월간 CEO&]사유의 폭 넓히는 복합 체험 전시한국관광? 재미있지? 재미ITZY!... \"Feel the rhythm of Korea\"한국보건복지인력개발원, 사회복지분야 인재... 서천군과 업무 ...대구오페라하우스, 대구오페라축제 해설오페라... 카르멘 선보여예스24, 황정민, 이정재 주연의'다만 악에서 구하소서'... 개봉 첫 ...낙원악기상가, 방문만해도 풍성한 선물... 낙원 감사제 개최소자원, 청바지에서 유해물질 검출돼 자발적 리콜... 4개 제품 ...한국관광공사-부산관광공사 부산여행 캠페인... 부산에서 즐기는 특별한 액티비티'플랫폼 노동 포럼' 출범…배달 노사 머리 맞댄다쌍용자동차, 다시 쓰는 스펙 완전히 새로워진... 리스펙 코란도 ...배달의민족·요기요 통합 노동자와 자영업자, 우려서울시, 거리모니터링단 8년간 5천여명... 시민 보행환경개선 앞장클룩, 인천 펜타포트 락 페스티벌 온라인 사전등록... 올해는 랜선 ...'꺼림칙한 호황'...코로나19 확산에 배달 주문량 ↑실패박람회 국민 서포터즈 온라인 발대식 개최... 행정안전부, 비 ...대구오페라하우스, 대구오페라축제 소오페라... 춘향전 한국 ...[투코 ZOOM] 샴푸 하나도 '30분 배달'…유통업계 배달 시간 전쟁현대오토에버- 이노베이션아카데미, 디지털 인재... 소프트웨어 ...더쎄를라잇브루잉,전동근 대표 수제맥주 원재료... 공급 양조장 ...토니모리, MZ세대의 HIP&VIBE FW 메이크업 룩... 스튜디오토니 ...인천광역시-한국관광공사, 스마트관광도시... 시범조성사업 추진 ...[카테고리 전쟁] 배민마켓은 정말 쿠팡과 맞붙을까서울시, 김포공항에 사회적경제기업 제품... 비대면 판매매장 오픈예스24, 강동원·이정현 주연의 재난 액션 블록버스터... '반도' 첫 주 예매 순위 1위한국양성평등교육진흥원, 제3·4기 아시아권... 젠더 트레이너 ...국립생태원, 러시아 '표범의 땅 국립공원'... 생태연구 협력 양해 ...\"안전한 민박 다함께 만들어 갑시다\"... 한국관광공사 에어비앤비 ...만트럭버스코리아(주) 덤프트럭 2천749대 리콜평택항 매립지 경계분쟁 헌재 권한쟁의 심판... 각하결정 사실상 ...대만관광객 120명 항공편 체험상품 한국 온다... 타이베이공항 ...예스24, 디즈니·픽사 애니메이션 온워드 개봉... 첫 주 예매 순위 ...국토교통부-항공안전기술원 미래 드론교통관리... 실증 본격 추진경기도지사, 집중호우 피해 안성 죽산면 수해현장 방문... 피해 ...하남시, 지하철 시대 개막 미사역·풍산역 개통... 대중교통 이용 ...서울강원지역 전통시장, 동행세일 고객감사세일... 경품대축제 ...8호선 연장 별내선 한강 하저터널 공사... 쉴드TBM 비배수 공법 ...천박해, 천박해!“배달라이더, '플랫폼 노동' 아니라 '디지털 특고'”[기획특집-노동안전 패러다임 바꿔야 줄인다 ②] 산업안전보건 ...\"퇴근길 알바로 음식배달해요\"…커지는 일반인 배달시장김범석 쿠팡 대표, 산업안전보건법 위반 혐의 고발당해배달의민족 간편식 배달 'B마트'가 주목받는 이유5G 연결 17%…3년 뒤 모바일 네트워크·인터넷 환경중대재해기업처벌법의 처벌 대상 행위에 관한 고민대한민국은 현재 공유 전동 킥보드 열풍노동부, '요기요' 배달원 노동자로 인정...라이더유니온 “플랫폼 ...“방구석 1열” 언택트 시대의 달라진 문화생활... 이제는 콘서트도 '온라인'으로![정부 발전산업 안전강화 방안 7개월] “김용균의 동료들은 왜 ...물류신문 모바일 사이트, 대한상공회의소, '공유 플랫폼' 세미나 ...환경을 살리는 \"행복한에코폰\"중대재해기업처벌법 논의 돌아보기구매력까지 액티브한 50·60세대를 집중공략 중인 자동차 업계\"수능 100일도 안 남았네\"…편의점 수능 관련 상품 '반짝 특수'죽음의 외주화 막겠다던 정부, 지켜지지 않는 약속코로나 저리 가! 센트온의 프리미엄 예방 소독 '온 케어' 서비스아이돌 멤버가 비행기 안전수칙을 설명해주는 비행기를 타 ...한국마케팅협회, 제83회 마케팅최고경영자조찬회 성황리 개최현대중공업 물량팀 추락사 5개월 전 사고와 '판박이'화려한 치즈가 감싼 김태희, 새롭게 돌아온 '끌레도르'재단법인 피플 이사장에 송영중 전 인력공단 이사장[불안·우울·불면, 목격자의 고통] 현대중공업 '끼임 사고' 피해자 ...30년 경력 건설노동자가 꼽은 이천 화재참사 원인진화된 마케팅이라 불리는 그로스 해킹, 그게 뭔데?[4·16 세월호 참사 6주기 기억식 현장] 투표권 빼앗긴 세월호 ...국감 때마다 논란, 무분별한 자료요청 악순환 막으려면“김포대 신입생 충원율 조작, 꼬리자르기 징계”인천의 한옥 유니크 베뉴 세계를 유혹하다매일노동뉴스 모바일 사이트, 재난기본소득이 필요하다['노사정대표자회의 잠정 합의(안)' 보니] 정부 “고용유지 지원 ...이스타항공조종사노조 위원장 고용보장 '눈물 호소'학교 급식노동자 보호 산업안전보건위 구성 지지부진한 까닭[지상중계-2019 노동자 건강권포럼] 안전보건 새로운 30년 여는 ...꺾이고 무너지는 소형 타워크레인산업안전보건법 개정, 정치는 무능했고 어머니는 강했다김용균재단 출범 “차별없고 안전한 일터 만들겠다”감정노동자 보호 산업안전보건법 시행 의미\n"
     ]
    }
   ],
   "source": [
    "news_corpus = \"\".join(df[0].tolist())\n",
    "print(news_corpus)"
   ]
  },
  {
   "cell_type": "code",
   "execution_count": 40,
   "metadata": {},
   "outputs": [
    {
     "name": "stdout",
     "output_type": "stream",
     "text": [
      "Counter({'배달': 66, '배민': 29, '라이더': 19, '한국': 19, '안전': 18, '민족': 12, '커넥트': 11, '플랫폼': 10, '노동': 9, '코로나': 9, '보험': 8, '노동자': 8, '쿠팡': 7, '비대': 7, '공사': 7, '관리': 7, '관광': 7, '모바일': 6, '서울시': 6, '오페라': 6, '산업': 6, '보건': 6, '보드': 5, '시장': 5, '배송': 5, '체험': 5, '서울': 5, '사업': 5, '직접': 4, '대한민국': 4, '알바': 4, '현장': 4, '정부': 4, '요기': 4, '사고': 4, '업무': 4, '축제': 4, '개최': 4, '예스': 4, '대구': 4, '불안': 3, '일자리': 3, '음식': 3, '중앙': 3, '일보': 3, '형제': 3, '대표': 3, '서비스': 3, '기사': 3, '상품': 3, '사회': 3, '시간': 3, '시간제': 3, '보호': 3, '확산': 3, '화재': 3, '시대': 3, '마켓': 3, '공유': 3, '재난': 3, '제품': 3, '추진': 3, '캠페인': 3, '디지털': 3, '인천': 3, '항공': 3, '드론': 3, '환경': 3, '온라인': 3, '현대': 3, '기업': 3, '처벌': 3, '마케팅': 3, '혁신': 2, '국내': 2, '최초': 2, '협약': 2, '커넥터': 2, '연봉': 2, '안전교육': 2, '계약': 2, '조선': 2, '비즈': 2, '공유경제': 2, '타고': 2, '수입': 2, '자전거': 2, '전동': 2, '시급': 2, '유니온': 2, '불공정': 2, '행위': 2, '고발': 2, '세계': 2, '도보': 2, '대책': 2, '실험': 2, '대행': 2, '바퀴': 2, '질주': 2, '자영': 2, '업자': 2, '매일경제': 2, '퇴근길': 2, '추락': 2, '편의점': 2, '위협': 2, '거리': 2, '연장': 2, '하나': 2, '가입': 2, '뚜벅': 2, '눈물': 2, '점주': 2, '고객': 2, '지급': 2, '기사도': 2, '시설': 2, '공단': 2, '필요': 2, '우버': 2, '이천': 2, '물류': 2, '체결': 2, '마트': 2, '이유': 2, '호황': 2, '클룩': 2, '솔루션': 2, '대화': 2, '근로자': 2, '이제': 2, '하늘': 2, '공원': 2, '한시': 2, '구축': 2, '협력': 2, '교육': 2, '지역': 2, '평택': 2, '월간': 2, '연안': 2, '동행': 2, '자원': 2, '위생': 2, '공동': 2, '경기도': 2, '특고': 2, '지원': 2, '랜선': 2, '페스티벌': 2, '콘서트': 2, '도심': 2, '보행': 2, '개통': 2, '업계': 2, '행정안전부': 2, '시범': 2, '개정': 2, '인재': 2, '하우스': 2, '주연': 2, '개봉': 2, '낙원': 2, '방문': 2, '감사': 2, '리콜': 2, '포럼': 2, '출범': 2, '자동차': 2, '스펙': 2, '전쟁': 2, '세대': 2, '예매': 2, '순위': 2, '트럭': 2, '피해': 2, '재해': 2, '개월': 2, '김용균': 2, '사이트': 2, '수능': 2, '비행기': 2, '중공업': 2, '이사장': 2, '참사': 2, '세월호': 2, '배차': 1, '규제': 1, '무력': 1, '탄생': 1, '나배': 1, '기자': 1, '면책': 1, '사항': 1, '인천국제공항공사': 1, '지속가능성': 1, '지수': 1, '연속': 1, '건물': 1, '내비': 1, '불법': 1, '세모': 1, '퇴근': 1, '출근': 1, '자유': 1, '사이': 1, '경제': 1, '레시피': 1, '플렉스': 1, '디버': 1, '르포': 1, '전기자전거': 1, '절망': 1, '손보': 1, '전용': 1, '출시': 1, '장성규': 1, '달리': 1, '보이': 1, '최저': 1, '누구': 1, '가동': 1, '다수': 1, '여행사': 1, '오늘': 1, '전혀': 1, '시작': 1, '낫다': 1, '경차': 1, '초소': 1, '전기차': 1, '휴직': 1, '주지': 1, '운동': 1, '사흘': 1, '계약서': 1, '중상': 1, '운전자': 1, '보장': 1, '유상': 1, '운송': 1, '악플': 1, '운전': 1, '인터뷰': 1, '위법': 1, '더니': 1, '실존': 1, '일쑤': 1, '신규': 1, '시스템': 1, '가맹': 1, '조윤성': 1, '대응': 1, '투잡': 1, '속성': 1, '두기': 1, '단계': 1, '대란': 1, '장기': 1, '동안': 1, '이륜차': 1, '문제': 1, '누가': 1, '우리': 1, '사망': 1, '하루': 1, '단축': 1, '결제': 1, '마스크': 1, '신종': 1, '시공사': 1, '관리자': 1, '폭염': 1, '새벽': 1, '투잡족': 1, '공포': 1, '치킨게임': 1, '창고': 1, '지침': 1, '무시': 1, '손해': 1, '스몰': 1, '티켓': 1, '운행': 1, '번쩍': 1, '무한': 1, '경쟁': 1, '이커머스': 1, '남이섬': 1, '입장': 1, '제공': 1, '바로': 1, '확진': 1, '모든': 1, '사람': 1, '노동법': 1, '권리': 1, '장치': 1, '인정이': 1, '이슈': 1, '트렌드': 1, '노미': 1, '등장': 1, '프리랜서': 1, '인증': 1, '거래': 1, '중고': 1, '두리안': 1, '론칭': 1, '걸음': 1, '항공사': 1, '하반기': 1, '신입사원': 1, '채용': 1, '폐쇄': 1, '금년': 1, '취소': 1, '소비자원': 1, '바운': 1, '요람': 1, '아기': 1, '해수부': 1, '지능': 1, '항만': 1, '선도': 1, '활용': 1, '양해각서': 1, '무예': 1, '연구소': 1, '한양여자대학교': 1, '청소년': 1, '수련': 1, '택트': 1, '관광지': 1, '바람': 1, '주부': 1, '직장인': 1, '진출': 1, '양덕': 1, '회장': 1, '이웃': 1, '직원': 1, '희망': 1, '보금자리': 1, '소방': 1, '본부': 1, '최근': 1, '구조대': 1, '선박': 1, '펀드': 1, '라이즈': 1, '주호': 1, '명명': 1, '대형': 1, '카페리': 1, '중심': 1, '행사': 1, '휠체어': 1, '별로': 1, '주행': 1, '편리': 1, '배터리': 1, '성능': 1, '차이': 1, '국민은행': 1, '금융': 1, '수원': 1, '자산': 1, '콘텐츠': 1, '제휴': 1, '가정': 1, '정수기': 1, '기적': 1, '취수부': 1, '코크': 1, '크라우드소싱': 1, '자율성': 1, '사사': 1, '출신': 1, '권봉석': 1, '디자이너': 1, '하이엔드': 1, '데님': 1, '브랜드': 1, '산책로': 1, '목재': 1, '데크': 1, '적발': 1, '임시': 1, '용접': 1, '플레이': 1, '경비': 1, '지출': 1, '가족': 1, '여성연구': 1, '육아': 1, '문화': 1, '하하': 1, '진행': 1, '제도': 1, '점투': 1, '휴먼': 1, '휴가': 1, '전세계': 1, '관람': 1, '야외': 1, '무대': 1, '도로': 1, '태양광': 1, '월드컵': 1, '뚝섬': 1, '극복': 1, '동참': 1, '통운': 1, '지목': 1, '농수산': 1, '대학': 1, '수시': 1, '모집': 1, '일반': 1, '전형': 1, '원서': 1, '접수': 1, '선발': 1, '평균': 1, '주식회사': 1, '배틀': 1, '라운드': 1, '블랙': 1, '핑크': 1, '컬래버레이션': 1, '교통체증': 1, '린다': 1, '구급대': 1, '개대': 1, '증설': 1, '환자': 1, '이송': 1, '능력': 1, '역사': 1, '공중': 1, '옥상': 1, '그린': 1, '루프': 1, '변신': 1, '리테일': 1, '체계': 1, '제주도': 1, '산업부': 1, '시연': 1, '과거': 1, '질병': 1, '알리': 1, '보험금': 1, '거절': 1, '택시': 1, '표시': 1, '전광': 1, '사용': 1, '광고': 1, '고시': 1, '철수': 1, '재욱': 1, '농림축산식품부': 1, '차관': 1, '여객선': 1, '운항': 1, '비용': 1, '부담': 1, '납부': 1, '유예': 1, '최대': 1, '사유': 1, '복합': 1, '전시': 1, '재미': 1, '국보': 1, '건복': 1, '지인': 1, '개발': 1, '복지': 1, '분야': 1, '서천군': 1, '해설': 1, '카르멘': 1, '황정민': 1, '이정재': 1, '다만': 1, '하소': 1, '악기': 1, '상가': 1, '만해': 1, '선물': 1, '청바지': 1, '유해': 1, '물질': 1, '자발': 1, '부산관광공사': 1, '부산여행': 1, '부산': 1, '티비': 1, '노사': 1, '머리': 1, '쌍용': 1, '다시': 1, '코란도': 1, '통합': 1, '우려': 1, '모니터링단': 1, '시민': 1, '개선': 1, '앞장': 1, '펜타포트': 1, '사전': 1, '등록': 1, '올해': 1, '주문': 1, '실패': 1, '박람회': 1, '국민': 1, '서포터즈': 1, '발대식': 1, '춘향전': 1, '투코': 1, '샴푸': 1, '유통업': 1, '오토': 1, '에버': 1, '이노베이션': 1, '아카데미': 1, '소프트웨어': 1, '브루잉': 1, '수제': 1, '맥주': 1, '재료': 1, '공급': 1, '양조장': 1, '토니모리': 1, '메이크업': 1, '스튜디오': 1, '토니': 1, '인천광역시': 1, '스마트': 1, '도시': 1, '조성': 1, '카테고리': 1, '정말': 1, '김포공항': 1, '판매': 1, '매장': 1, '오픈': 1, '강동원': 1, '이정현': 1, '액션': 1, '블록버스터': 1, '반도': 1, '양성평등': 1, '진흥': 1, '아시아': 1, '젠더': 1, '트레이너': 1, '국립생태원': 1, '러시아': 1, '표범': 1, '국립공원': 1, '생태': 1, '연구': 1, '양해': 1, '민박': 1, '에어비앤비': 1, '버스': 1, '코리아': 1, '덤프': 1, '매립지': 1, '경계': 1, '분쟁': 1, '헌재': 1, '권한': 1, '쟁의': 1, '심판': 1, '각하': 1, '결정': 1, '사실': 1, '대만': 1, '관광객': 1, '타이베이': 1, '공항': 1, '디즈니': 1, '픽사': 1, '애니메이션': 1, '워드': 1, '국토교통부': 1, '기술': 1, '미래': 1, '교통': 1, '실증': 1, '본격': 1, '지사': 1, '집중호우': 1, '안성': 1, '죽산면': 1, '수해': 1, '하남시': 1, '지하철': 1, '개막': 1, '미사': 1, '풍산역': 1, '대중교통': 1, '이용': 1, '강원': 1, '전통': 1, '경품': 1, '호선': 1, '별내선': 1, '한강': 1, '터널': 1, '쉴드': 1, '배수': 1, '공법': 1, '기획': 1, '특집': 1, '패러다임': 1, '알바로': 1, '일반인': 1, '김범': 1, '위반': 1, '혐의': 1, '간편식': 1, '주목': 1, '연결': 1, '네트워크': 1, '인터넷': 1, '대상': 1, '고민': 1, '현재': 1, '열풍': 1, '노동부': 1, '인정': 1, '구석': 1, '언택트': 1, '문화생활': 1, '발전': 1, '강화': 1, '방안': 1, '동료': 1, '신문': 1, '상공회의소': 1, '세미나': 1, '에코': 1, '중대': 1, '논의': 1, '구매력': 1, '액티브': 1, '집중': 1, '공략': 1, '중인': 1, '관련': 1, '반짝': 1, '특수': 1, '죽음': 1, '외주': 1, '약속': 1, '저리': 1, '센트': 1, '프리미엄': 1, '예방': 1, '소독': 1, '케어': 1, '아이돌': 1, '멤버': 1, '설명': 1, '협회': 1, '최고경영자': 1, '조찬': 1, '성황리': 1, '물량팀': 1, '판박이': 1, '치즈': 1, '김태희': 1, '끌레도르': 1, '재단법인': 1, '피플': 1, '송영': 1, '인력': 1, '우울': 1, '불면': 1, '목격자': 1, '고통': 1, '끼임': 1, '피해자': 1, '경력': 1, '건설': 1, '원인': 1, '진화': 1, '로스': 1, '해킹': 1, '그게': 1, '주기': 1, '기억': 1, '투표': 1, '국감': 1, '논란': 1, '무분별': 1, '자료': 1, '요청': 1, '악순환': 1, '김포대': 1, '신입생': 1, '조작': 1, '꼬리': 1, '징계': 1, '유니크': 1, '베뉴': 1, '유혹': 1, '매일': 1, '뉴스': 1, '기본소득': 1, '사정': 1, '대표자': 1, '회의': 1, '잠정': 1, '합의': 1, '고용': 1, '유지': 1, '이스타항공': 1, '조종사': 1, '노조': 1, '위원장': 1, '고용보': 1, '호소': 1, '학교': 1, '급식': 1, '구성': 1, '지지': 1, '까닭': 1, '지상': 1, '중계': 1, '건강': 1, '소형': 1, '타워': 1, '크레인': 1, '정치': 1, '어머니': 1, '재단': 1, '차별': 1, '일터': 1, '감정노동자': 1, '시행': 1, '의미': 1})\n"
     ]
    }
   ],
   "source": [
    "from konlpy.tag import Okt\n",
    "from collections import Counter\n",
    "\n",
    "# 명사 키워드를 추출\n",
    "nouns_tagger = Okt()\n",
    "nouns = nouns_tagger.nouns(news_corpus)\n",
    "count = Counter(nouns)\n",
    "\n",
    "# 한글자 키워드를 제거\n",
    "remove_char_counter = Counter({x : count[x] for x in count if len(x) > 1})\n",
    "print(remove_char_counter)"
   ]
  },
  {
   "cell_type": "code",
   "execution_count": 41,
   "metadata": {},
   "outputs": [
    {
     "data": {
      "text/html": [
       "<div>\n",
       "<style scoped>\n",
       "    .dataframe tbody tr th:only-of-type {\n",
       "        vertical-align: middle;\n",
       "    }\n",
       "\n",
       "    .dataframe tbody tr th {\n",
       "        vertical-align: top;\n",
       "    }\n",
       "\n",
       "    .dataframe thead th {\n",
       "        text-align: right;\n",
       "    }\n",
       "</style>\n",
       "<table border=\"1\" class=\"dataframe\">\n",
       "  <thead>\n",
       "    <tr style=\"text-align: right;\">\n",
       "      <th></th>\n",
       "      <th>node</th>\n",
       "      <th>nodesize</th>\n",
       "    </tr>\n",
       "  </thead>\n",
       "  <tbody>\n",
       "    <tr>\n",
       "      <th>2</th>\n",
       "      <td>배달</td>\n",
       "      <td>66</td>\n",
       "    </tr>\n",
       "    <tr>\n",
       "      <th>7</th>\n",
       "      <td>플랫폼</td>\n",
       "      <td>10</td>\n",
       "    </tr>\n",
       "    <tr>\n",
       "      <th>8</th>\n",
       "      <td>노동</td>\n",
       "      <td>9</td>\n",
       "    </tr>\n",
       "    <tr>\n",
       "      <th>12</th>\n",
       "      <td>커넥트</td>\n",
       "      <td>11</td>\n",
       "    </tr>\n",
       "    <tr>\n",
       "      <th>15</th>\n",
       "      <td>보드</td>\n",
       "      <td>5</td>\n",
       "    </tr>\n",
       "  </tbody>\n",
       "</table>\n",
       "</div>"
      ],
      "text/plain": [
       "   node  nodesize\n",
       "2    배달        66\n",
       "7   플랫폼        10\n",
       "8    노동         9\n",
       "12  커넥트        11\n",
       "15   보드         5"
      ]
     },
     "execution_count": 41,
     "metadata": {},
     "output_type": "execute_result"
    }
   ],
   "source": [
    "# 위의 결과를 보기 쉽게 display\n",
    "# 키워드와 키워드 빈도 점수를 ‘node’, ‘nodesize’ 라는 데이터 프레임의 피처로 생성\n",
    "node_df = pd.DataFrame(remove_char_counter.items(), columns=['node', 'nodesize'])\n",
    "node_df = node_df[node_df['nodesize'] >= 5] # 시각화의 편의를 위해 ‘nodesize’ 5 이하는 제거\n",
    "node_df.head()"
   ]
  },
  {
   "cell_type": "code",
   "execution_count": null,
   "metadata": {},
   "outputs": [],
   "source": [
    "#pip install networkx\n",
    "import matplotlib.pyplot as plt\n",
    "import networkx as nx\n",
    "plt.figure(figsize=(25,25))\n",
    "\n",
    "# networkx 그래프 객체를 생성합니다.\n",
    "G = nx.Graph()\n",
    "\n",
    "# node_df의 키워드 빈도수를 데이터로 하여, 네트워크 그래프의 ‘노드’ 역할을 하는 원을 생성합니다.\n",
    "for index, row in node_df.iterrows():\n",
    "    G.add_node(row['node'], nodesize=row['nodesize'])\n",
    "    \n",
    "# network_df의 연관 분석 데이터를 기반으로, 네트워크 그래프의 ‘관계’ 역할을 하는 선을 생성합니다.\n",
    "for index, row in network_df.iterrows():\n",
    "    G.add_weighted_edges_from([(row['source'], row['target'], row['support'])])\n",
    "    \n",
    "# 그래프 디자인과 관련된 파라미터를 설정\n",
    "pos = nx.spring_layout(G, k=0.6, iterations=50)\n",
    "sizes = [G.nodes[node]['nodesize']*25 for node in G]\n",
    "nx.draw(G, pos=pos, node_size=sizes)\n",
    "\n",
    "# Windows 사용자는 AppleGothic 대신,'Malgun Gothic'. 그 외 OS는 OS에서 한글을 지원하는 기본 폰트를 입력합니다.\n",
    "nx.draw_networkx_labels(G, pos=pos, font_family='Malgun Gothic', font_size=25)\n",
    "\n",
    "# 그래프를 출력합니다.\n",
    "ax = plt.gca()\n",
    "plt.savefig(\"./fusion/data/네트워크 결과.png\")\n",
    "plt.show()"
   ]
  },
  {
   "cell_type": "code",
   "execution_count": null,
   "metadata": {},
   "outputs": [],
   "source": []
  }
 ],
 "metadata": {
  "kernelspec": {
   "display_name": "pydatavenv",
   "language": "python",
   "name": "pydatavenv"
  },
  "language_info": {
   "codemirror_mode": {
    "name": "ipython",
    "version": 3
   },
   "file_extension": ".py",
   "mimetype": "text/x-python",
   "name": "python",
   "nbconvert_exporter": "python",
   "pygments_lexer": "ipython3",
   "version": "3.7.9"
  }
 },
 "nbformat": 4,
 "nbformat_minor": 4
}
