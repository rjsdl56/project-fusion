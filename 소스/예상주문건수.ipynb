{
 "cells": [
  {
   "cell_type": "markdown",
   "metadata": {},
   "source": [
    "# 실시간 배달 예상주문건수 코드"
   ]
  },
  {
   "cell_type": "code",
   "execution_count": 1,
   "metadata": {},
   "outputs": [],
   "source": [
    "## 라이더에게 줘야할 것 - 시간별 주문건수 ==> 라이더별로 나누려면 라이더 수가 필요하다!!\n",
    "\n",
    "# 시간-지역별 배달 주문건수\n",
    "import pandas as pd\n",
    "from datetime import datetime\n",
    "\n",
    "def delivery_order_expect():\n",
    "\n",
    "    # 데이터 불러오기\n",
    "    delivery_time_order_count = pd.read_csv('./data/delivery/시간-지역별 배달 주문건수.csv', header=None)\n",
    "    delivery_time_order_count.columns = ['날짜', '시간', '시', '구', '주문건수']\n",
    "\n",
    "    # 서울특별시만 걸러내기\n",
    "    delivery_time_order_count = delivery_time_order_count.groupby('시')\n",
    "    df = delivery_time_order_count.get_group('서울특별시')\n",
    "\n",
    "    # 날짜 컬럼 삭제 -> 날짜가 불분명해져도 괜찮. 나중에 mean()으로 통합\n",
    "    df.drop(df.columns[0], axis=1, inplace=True)\n",
    "\n",
    "    # 현재 시간 불러오기\n",
    "    i = datetime.today().hour\n",
    "\n",
    "    # 시간별로 묶기\n",
    "    time_zero = df.groupby('시간')\n",
    "    time_zero = time_zero.get_group(i)\n",
    "\n",
    "    # 구 별로 묶기\n",
    "    gangnam = time_zero.groupby('구')\n",
    "    gangnam = gangnam.get_group('강남구')\n",
    "    # display(gangnam)\n",
    "\n",
    "    # 예상 주문건수 --> 지금까지 있었던 모든 날짜의 주문건수를 더한 뒤 평균 값을 전달\n",
    "    return \"강남구 \" + str(i) + \"시 예상주문건수 :\" + str(gangnam['주문건수'].mean().round(1)) + \"건\"\n",
    "\n",
    "# 문제점 : 배달하는 라이더 수를 알아야 개인별 예상건수 예측 가능!! --> 앱을 통해 활성화된 라이더수를 받아와 나눠줘야 할 듯"
   ]
  },
  {
   "cell_type": "code",
   "execution_count": 2,
   "metadata": {},
   "outputs": [
    {
     "name": "stderr",
     "output_type": "stream",
     "text": [
      "C:\\Users\\parkgun\\anaconda3\\envs\\pydatavenv\\lib\\site-packages\\pandas\\core\\frame.py:4170: SettingWithCopyWarning: \n",
      "A value is trying to be set on a copy of a slice from a DataFrame\n",
      "\n",
      "See the caveats in the documentation: https://pandas.pydata.org/pandas-docs/stable/user_guide/indexing.html#returning-a-view-versus-a-copy\n",
      "  errors=errors,\n"
     ]
    },
    {
     "data": {
      "text/plain": [
       "'강남구 12시 예상주문건수 :7.0건'"
      ]
     },
     "execution_count": 2,
     "metadata": {},
     "output_type": "execute_result"
    }
   ],
   "source": [
    "delivery_order_expect()"
   ]
  },
  {
   "cell_type": "code",
   "execution_count": null,
   "metadata": {},
   "outputs": [],
   "source": []
  },
  {
   "cell_type": "code",
   "execution_count": null,
   "metadata": {},
   "outputs": [],
   "source": []
  },
  {
   "cell_type": "code",
   "execution_count": null,
   "metadata": {},
   "outputs": [],
   "source": []
  }
 ],
 "metadata": {
  "kernelspec": {
   "display_name": "pydatavenv",
   "language": "python",
   "name": "pydatavenv"
  },
  "language_info": {
   "codemirror_mode": {
    "name": "ipython",
    "version": 3
   },
   "file_extension": ".py",
   "mimetype": "text/x-python",
   "name": "python",
   "nbconvert_exporter": "python",
   "pygments_lexer": "ipython3",
   "version": "3.7.9"
  }
 },
 "nbformat": 4,
 "nbformat_minor": 4
}
