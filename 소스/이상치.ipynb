{
 "cells": [
  {
   "cell_type": "markdown",
   "metadata": {},
   "source": [
    "# 이상치 잡아내기 시리즈"
   ]
  },
  {
   "cell_type": "code",
   "execution_count": null,
   "metadata": {},
   "outputs": [],
   "source": [
    "# 먼저 예제를 풀어보자 / 사이킷런 교재 131쪽\n",
    "import pandas as pd\n",
    "import numpy as np\n",
    "from sklearn.covariance import EllipticEnvelope\n",
    "from sklearn.datasets import make_blobs\n",
    "\n",
    "features, _ = make_blobs(n_samples = 10,\n",
    "                        n_features = 2,\n",
    "                        centers = 1,\n",
    "                        random_state = 1)\n",
    "\n",
    "display(features)\n",
    "\n",
    "# 첫번째 샘플을 극단값으로 변경\n",
    "features[0,0] = 10000\n",
    "features[0,1] = 10000\n",
    "\n",
    "# 이상치 감지 객체 생성\n",
    "outlier_detector = EllipticEnvelope(contamination=.1) # 숫자를 키울수록 이상치를 많이 감지한다.\n",
    "\n",
    "# 감지 객체 훈련\n",
    "outlier_detector.fit(features)\n",
    "\n",
    "# 이상치 예측\n",
    "print(outlier_detector.predict(features)) # 첫번째 값이 -1 ==> 이상치라는 의미\n",
    "print(\"====================================================================\")"
   ]
  },
  {
   "cell_type": "code",
   "execution_count": null,
   "metadata": {},
   "outputs": [],
   "source": [
    "# 문제는 컬럼을 어떻게 넘파이로 변환할 것인가? -> to_numpy()로!!\n",
    "df = pd.read_csv('./data/motion/예상데이터_변화량.csv')\n",
    "df.drop(df.columns[[0,1,2,3]], axis=1, inplace=True)\n",
    "display(df)\n",
    "\n",
    "# 데이터프레임을 numpy로 변환\n",
    "# https://c10106.tistory.com/5173 참고\n",
    "data = df.to_numpy()\n",
    "\n",
    "# 이상치 예측을 해보자 / 모듈설치\n",
    "from sklearn.covariance import EllipticEnvelope\n",
    "\n",
    "# 이상치 감지 객체 생성\n",
    "outlier_detector = EllipticEnvelope(contamination=.1) # 숫자를 키울수록 이상치를 많이 감지한다.\n",
    "\n",
    "# 감지 객체 훈련\n",
    "outlier_detector.fit(data)\n",
    "\n",
    "# 이상치 예측\n",
    "print(outlier_detector.predict(data)) # -1 ==> 이상치라는 의미"
   ]
  },
  {
   "cell_type": "markdown",
   "metadata": {},
   "source": [
    "# 하지만 -1로만 알아보긴 너무 힘들다!! \n",
    "# 빅데이터에게 익숙한 방법은 없나?"
   ]
  },
  {
   "cell_type": "code",
   "execution_count": null,
   "metadata": {},
   "outputs": [],
   "source": [
    "import pandas as pd\n",
    "import numpy as np\n",
    "df = pd.read_csv('./data/motion/예상데이터_변화량.csv')\n",
    "df.drop(df.columns[0], axis=1, inplace=True)\n",
    "display(df)"
   ]
  },
  {
   "cell_type": "code",
   "execution_count": null,
   "metadata": {},
   "outputs": [],
   "source": [
    "df['AX이상치'] = np.where(df['AX변화량'] < 1.5, 0, 1) # 1.5보다 작으면 0, 1.5보다 크면 1\n",
    "df['AY이상치'] = np.where(df['AY변화량'] < 1.5, 0, 1) # 1.5보다 작으면 0, 1.5보다 크면 1\n",
    "\n",
    "display(df)"
   ]
  },
  {
   "cell_type": "code",
   "execution_count": null,
   "metadata": {},
   "outputs": [],
   "source": [
    "# 실시간으로 어떻게 감지해야 하나?\n",
    "import warnings\n",
    "warnings.filterwarnings(\"ignore\")\n",
    "\n",
    "def outlier_dect(sample1, sample2) :\n",
    "    try : \n",
    "        if abs(sample1 - sample2) > 1.5 :\n",
    "            print(\"야이 음식 다 뒤집어지겠다.\")\n",
    "    except : \n",
    "        print(\"안전주행하세요.\")"
   ]
  },
  {
   "cell_type": "code",
   "execution_count": null,
   "metadata": {},
   "outputs": [],
   "source": [
    "for i in range(len(df)):\n",
    "    outlier_dect(df.iloc[i+1,0],df.iloc[i,0])\n",
    "\n",
    "# 실시간이면 마지막 값은 계속 업뎃?\n",
    "# 어떻게 실시간으로 구현할 지? -> 하둡 써야하는 거 같은데...?\n",
    "    "
   ]
  },
  {
   "cell_type": "markdown",
   "metadata": {},
   "source": [
    "# 너무 안정적이면 보험료를 위해 사기치는 것일수도!!"
   ]
  },
  {
   "cell_type": "code",
   "execution_count": null,
   "metadata": {},
   "outputs": [],
   "source": [
    "# 실시간으로 어떻게 감지해야 하나?\n",
    "import warnings\n",
    "warnings.filterwarnings(\"ignore\")\n",
    "\n",
    "def outlier_dect(sample1, sample2) :\n",
    "    try : \n",
    "        if abs(sample1 - sample2) < 0.1 :\n",
    "            print(\"냄새가 난다\")\n",
    "    except : \n",
    "        print(\"안전주행하세요.\")"
   ]
  },
  {
   "cell_type": "code",
   "execution_count": null,
   "metadata": {},
   "outputs": [],
   "source": [
    "for i in range(len(df)):\n",
    "    outlier_dect(df.iloc[i+1,0],df.iloc[i,0])"
   ]
  },
  {
   "cell_type": "markdown",
   "metadata": {},
   "source": [
    "# 실시간으로 어떻게 잡아낼까\n",
    "time sleep을 아두이노와 똑같이 주면 되지 않을까?"
   ]
  },
  {
   "cell_type": "code",
   "execution_count": null,
   "metadata": {},
   "outputs": [],
   "source": [
    "import pandas as pd\n",
    "import time\n",
    "\n",
    "# # 서버 연결\n",
    "# import pymysql\n",
    "# # 딕셔너리 커서 객체로 생성\n",
    "# conn = pymysql.connect(host='multi-bigdata.cljkqcsbb9ok.ap-northeast-2.rds.amazonaws.com',\n",
    "#                        port=3306,\n",
    "#                        user='edu04',\n",
    "#                        passwd='edu04', \n",
    "#                        db='unicodb', \n",
    "#                        cursorclass=pymysql.cursors.DictCursor)\n",
    "# try:\n",
    "#     cur = conn.cursor() # 커서 객체 생성\n",
    "#     print(\"-----------------------\")\n",
    "#     sql = 'SELECT * FROM emp' # SQL 함수 부분\n",
    "#     cur.execute(sql) # SQL 명령 실행\n",
    "#     result = cur.fetchall() # 모두 불러오기\n",
    "#     print(result)\n",
    "#     print(\"----------------------------------------------\")\n",
    "# finally:\n",
    "#     conn.close()\n",
    "\n",
    "\n",
    "\n",
    "# 우선은 예상데이터로 하자\n",
    "df = pd.read_csv('./data/motion/예상데이터_변화량.csv')\n",
    "df.drop(df.columns[0], axis=1, inplace=True)\n",
    "display\n",
    "\n",
    "# 먼저 데이터가 들어오는 시간만큼 슬립을 주자\n",
    "time.sleep(1)\n",
    "danger_count = 0\n",
    "# 데이터 계산하기 / 여기서도 타임슬립을 준다\n",
    "for i in range(len(df)):\n",
    "    time.sleep(0.5) # 이거는 데이터 들어오는 속도와 똑같이 해주자\n",
    "    try : \n",
    "        if df.iloc[i+1,0] - df.iloc[i,0] > 1.5 :\n",
    "            print(\"잡았다 요놈\")\n",
    "            danger_count += 1\n",
    "        else :\n",
    "            print(\"안전주행중입니다.\")\n",
    "    except :\n",
    "        pass\n",
    "\n",
    "        \n",
    "    "
   ]
  },
  {
   "cell_type": "code",
   "execution_count": null,
   "metadata": {},
   "outputs": [],
   "source": [
    "print(danger_count)"
   ]
  },
  {
   "cell_type": "markdown",
   "metadata": {},
   "source": [
    "# 실시간 이상치 감지 (라즈베리파이 내 구현)\n",
    "\n",
    "\n",
    "### 문제는 실시간으로 잡아내는 것을 언제 시작하고, 언제 계산해서 끝낼 지\n",
    "- 문제는 시작 시점을 시작할 수 있는가? --> 픽업완료부터 측정 / 배달완료까지 측정\n",
    "- 그럼 배달완료에서 측정이 종료될 때 데이터베이스로 넘어가도록 (이거는 주호나 재환이가 하겠지?)\n",
    "- 그럼 빅데이터는? -> count만 되도록 만들어 두자\n"
   ]
  },
  {
   "cell_type": "code",
   "execution_count": null,
   "metadata": {},
   "outputs": [],
   "source": [
    "# 어떻게 실시간을 잡으려고요?!\n",
    "# 슈방 한 번 해봅시다.\n",
    "\n",
    "# 일단 정규화용 평균찾기\n",
    "X_mean = -14.06441677067501\n",
    "X_std = 33.97611978794694\n",
    "Y_mean = 17.314758936075098\n",
    "Y_std = 22.79429532634784\n",
    "Z_mean = -109.86382844702727\n",
    "Z_std = 85.63936548508705\n",
    "\n",
    "\n",
    "# 데이터 입력이 어떻게 되는건가요!\n",
    "def X_detect_outlier(sample1, sample2): \n",
    "    \n",
    "    count_x = 0\n",
    "    \n",
    "    # sample1은 직전값  / sample2는 현재값\n",
    "    pre_time = (sample1 - X_mean) / X_std\n",
    "    real_time = (sample2 - X_mean) / X_std\n",
    "    \n",
    "    detect = abs(real_time - pre_time)\n",
    "    \n",
    "    if detect > 0.3 :\n",
    "        print(\"alert\")\n",
    "        count += 1\n",
    "    else :\n",
    "        print(\"안전운전하세요.\")\n",
    "        \n",
    "def Y_detect_outlier(sample1, sample2): \n",
    "    \n",
    "    count_y = 0\n",
    "    \n",
    "    # sample1은 직전값  / sample2는 현재값\n",
    "    pre_time = (sample1 - Y_mean) / Y_std\n",
    "    real_time = (sample2 - Y_mean) / Y_std\n",
    "    \n",
    "    detect = abs(real_time - pre_time)\n",
    "    \n",
    "    if detect > 0.3 :\n",
    "        print(\"alert\")\n",
    "        count += 1\n",
    "    else :\n",
    "        print(\"안전운전하세요.\")\n",
    "\n",
    "        \n",
    "# 배달완료 후 마지막에 count를 더해야 함\n",
    "count = count_x + count_y\n"
   ]
  }
 ],
 "metadata": {
  "kernelspec": {
   "display_name": "pydatavenv",
   "language": "python",
   "name": "pydatavenv"
  },
  "language_info": {
   "codemirror_mode": {
    "name": "ipython",
    "version": 3
   },
   "file_extension": ".py",
   "mimetype": "text/x-python",
   "name": "python",
   "nbconvert_exporter": "python",
   "pygments_lexer": "ipython3",
   "version": "3.7.9"
  }
 },
 "nbformat": 4,
 "nbformat_minor": 4
}
