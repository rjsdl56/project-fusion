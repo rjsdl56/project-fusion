{
 "cells": [
  {
   "cell_type": "markdown",
   "metadata": {},
   "source": [
    "# 이상치 감지(라이더 <-> 보험회사 따로 측정)\n",
    "- 기본 설정은 동일(자이로센서_final.ipynb 참고)\n",
    "- outlier*2일 때 보험회사로 보내지는 이상치감지 카운팅\n",
    "- outlier일 때는 라이더에게 안전운전을 하라는 경고용"
   ]
  },
  {
   "cell_type": "code",
   "execution_count": 1,
   "metadata": {},
   "outputs": [
    {
     "ename": "NameError",
     "evalue": "name 'X_sample1' is not defined",
     "output_type": "error",
     "traceback": [
      "\u001b[1;31m---------------------------------------------------------------------------\u001b[0m",
      "\u001b[1;31mNameError\u001b[0m                                 Traceback (most recent call last)",
      "\u001b[1;32m<ipython-input-1-fb3787b4fcf3>\u001b[0m in \u001b[0;36m<module>\u001b[1;34m\u001b[0m\n\u001b[0;32m     21\u001b[0m \u001b[1;33m\u001b[0m\u001b[0m\n\u001b[0;32m     22\u001b[0m \u001b[1;31m# sample1은 accel_xout 직전값  / sample2는 accel_xout 현재값\u001b[0m\u001b[1;33m\u001b[0m\u001b[1;33m\u001b[0m\u001b[1;33m\u001b[0m\u001b[0m\n\u001b[1;32m---> 23\u001b[1;33m \u001b[0mX_pre_time\u001b[0m \u001b[1;33m=\u001b[0m \u001b[1;33m(\u001b[0m\u001b[0mX_sample1\u001b[0m \u001b[1;33m-\u001b[0m \u001b[0mX_mean\u001b[0m\u001b[1;33m)\u001b[0m \u001b[1;33m/\u001b[0m \u001b[0mX_std\u001b[0m\u001b[1;33m\u001b[0m\u001b[1;33m\u001b[0m\u001b[0m\n\u001b[0m\u001b[0;32m     24\u001b[0m \u001b[0mX_real_time\u001b[0m \u001b[1;33m=\u001b[0m \u001b[1;33m(\u001b[0m\u001b[0mX_sample2\u001b[0m \u001b[1;33m-\u001b[0m \u001b[0mX_mean\u001b[0m\u001b[1;33m)\u001b[0m \u001b[1;33m/\u001b[0m \u001b[0mX_std\u001b[0m\u001b[1;33m\u001b[0m\u001b[1;33m\u001b[0m\u001b[0m\n\u001b[0;32m     25\u001b[0m \u001b[1;31m# 각 항의 변화량을 변수에 입력\u001b[0m\u001b[1;33m\u001b[0m\u001b[1;33m\u001b[0m\u001b[1;33m\u001b[0m\u001b[0m\n",
      "\u001b[1;31mNameError\u001b[0m: name 'X_sample1' is not defined"
     ]
    }
   ],
   "source": [
    "## 이상치를 찾기 위한 변수 설정\n",
    "\n",
    "# X와 Y의 평균과 표준편차\n",
    "X_mean = -866.465565967574\n",
    "X_std = 1613.4888133990205\n",
    "Y_mean = -5726.632753235162\n",
    "Y_std = 2903.044587371531\n",
    "\n",
    "# X축 사분위 값 (각각 1분위, 4분위, 이상치 시작값)\n",
    "X_Q1 : 0.21568169367526852\n",
    "X_Q4 : 14.534962873771255\n",
    "X_outlier : 2.3601031307914444\n",
    "    \n",
    "# Y축 사분위 값 (각각 1분위, 4분위, 이상치 시작값)\n",
    "Y_Q1 : 0.12538560433533408\n",
    "Y_Q4 : 11.622281017236736\n",
    "Y_outlier : 1.4102435828265323\n",
    "\n",
    "    \n",
    "# 변수설정 \n",
    "\n",
    "# sample1은 accel_xout 직전값  / sample2는 accel_xout 현재값\n",
    "X_pre_time = (X_sample1 - X_mean) / X_std\n",
    "X_real_time = (X_sample2 - X_mean) / X_std\n",
    "# 각 항의 변화량을 변수에 입력\n",
    "detect_X_outlier = abs(X_real_time - X_pre_time)    \n",
    "\n",
    "\n",
    "# Y_sample1은 accel_y 직전값  / Y_sample2는 accel_y 현재값\n",
    "Y_pre_time = (Y_sample1 - Y_mean) / Y_std\n",
    "Y_real_time = (Y_sample2 - Y_mean) / Y_std\n",
    "# 각 항의 변화량을 변수에 입력\n",
    "detect_Y_outlier = abs(Y_real_time - Y_pre_time)\n",
    "\n",
    "###############################################################################################\n",
    "## 여기서 부터는 이상치를 찾아내는 코드!!\n",
    "### 왜 보험회사 카운팅이 outlier*2 인가? ==> X축 변화량 기준으로 보았을 때 임의로 변화를 준 횟수와 거의 근접하게 잡힘\n",
    "\n",
    "\n",
    "### 보험회사 파트\n",
    "# 각 보험회사에게 넘겨줄 카운트 \n",
    "count_x = 0\n",
    "count_y = 0\n",
    "\n",
    "# 라이더에게 경고 + 보험회사에게 넘겨줄 카운트 누적\n",
    "if detect_X_outlier > X_outlier*2 : \n",
    "    print(\"위험주행이 누적되셨습니다. 안전주행하세요.\")\n",
    "    count_x += 1\n",
    "else :\n",
    "    pass\n",
    "\n",
    "# 라이더에게 경고 + 보험회사에게 넘겨줄 카운트 누적\n",
    "if detect_Y_outlier > Y_outlier*2 :\n",
    "    print(\"위험주행이 누적되셨습니다. 안전주행하세요.\")\n",
    "    count_y += 1\n",
    "else :\n",
    "    pass\n",
    "\n",
    "\n",
    "    \n",
    "### 라이더 파트\n",
    "# 이거는 라이더에게 알려줄 코드 => X축 변화량 (흔들림 감지 시 라이더에게 경고)\n",
    "if detect_X_outlier > X_outlier :\n",
    "    print(\"안전주행하세요.\")\n",
    "else :\n",
    "    pass\n",
    "\n",
    "# 이거는 라이더에게 알려줄 코드 => Y축 변화량 (흔들림 감지 시 라이더에게 경고)\n",
    "if detect_Y_outlier > Y_outlier :\n",
    "    print(\"안전주행하세요.\")\n",
    "else :\n",
    "    pass\n",
    "\n",
    "\n",
    "\n",
    "# 배달완료 후 마지막에 count를 더해야 함\n",
    "count = count_x + count_y"
   ]
  },
  {
   "cell_type": "code",
   "execution_count": null,
   "metadata": {},
   "outputs": [],
   "source": []
  },
  {
   "cell_type": "code",
   "execution_count": null,
   "metadata": {},
   "outputs": [],
   "source": []
  }
 ],
 "metadata": {
  "kernelspec": {
   "display_name": "pydatavenv",
   "language": "python",
   "name": "pydatavenv"
  },
  "language_info": {
   "codemirror_mode": {
    "name": "ipython",
    "version": 3
   },
   "file_extension": ".py",
   "mimetype": "text/x-python",
   "name": "python",
   "nbconvert_exporter": "python",
   "pygments_lexer": "ipython3",
   "version": "3.7.9"
  }
 },
 "nbformat": 4,
 "nbformat_minor": 4
}
