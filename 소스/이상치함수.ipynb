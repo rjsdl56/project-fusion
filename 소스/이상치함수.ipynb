{
 "cells": [
  {
   "cell_type": "markdown",
   "metadata": {},
   "source": [
    "# 실시간 이상치 감지 (라즈베리파이 내 구현)\n",
    "\n",
    "\n",
    "### 문제는 실시간으로 잡아내는 것을 언제 시작하고, 언제 계산해서 끝낼 지\n",
    "- 문제는 시작 시점을 시작할 수 있는가? --> 픽업완료부터 측정 / 배달완료까지 측정\n",
    "- 그럼 배달완료에서 측정이 종료될 때 데이터베이스로 넘어가도록 (이거는 주호나 재환이가 하겠지?)\n",
    "- 그럼 빅데이터는? -> count만 되도록 만들어 두자"
   ]
  },
  {
   "cell_type": "code",
   "execution_count": 2,
   "metadata": {},
   "outputs": [
    {
     "ename": "NameError",
     "evalue": "name 'count_x' is not defined",
     "output_type": "error",
     "traceback": [
      "\u001b[1;31m---------------------------------------------------------------------------\u001b[0m",
      "\u001b[1;31mNameError\u001b[0m                                 Traceback (most recent call last)",
      "\u001b[1;32m<ipython-input-2-a6791fb899fd>\u001b[0m in \u001b[0;36m<module>\u001b[1;34m\u001b[0m\n\u001b[0;32m     46\u001b[0m \u001b[1;33m\u001b[0m\u001b[0m\n\u001b[0;32m     47\u001b[0m \u001b[1;31m# 배달완료 후 마지막에 count를 더해야 함\u001b[0m\u001b[1;33m\u001b[0m\u001b[1;33m\u001b[0m\u001b[1;33m\u001b[0m\u001b[0m\n\u001b[1;32m---> 48\u001b[1;33m \u001b[0mcount\u001b[0m \u001b[1;33m=\u001b[0m \u001b[0mcount_x\u001b[0m \u001b[1;33m+\u001b[0m \u001b[0mcount_y\u001b[0m\u001b[1;33m\u001b[0m\u001b[1;33m\u001b[0m\u001b[0m\n\u001b[0m",
      "\u001b[1;31mNameError\u001b[0m: name 'count_x' is not defined"
     ]
    }
   ],
   "source": [
    "# 슈방 한 번 해봅시다.\n",
    "# 이거는 예제 파일로 한 코드 구현입니당!\n",
    "\n",
    "# 일단 정규화용 평균찾기 ==> 기본값은 데이터를 수집한 것을 계속해서 받아다가 전체 평균을 내봅시다.\n",
    "X_mean = -14.06441677067501\n",
    "X_std = 33.97611978794694\n",
    "Y_mean = 17.314758936075098\n",
    "Y_std = 22.79429532634784\n",
    "Z_mean = -109.86382844702727\n",
    "Z_std = 85.63936548508705\n",
    "\n",
    "\n",
    "# 나중에 라즈베리파이에 적용할 때는 함수형태가 아닌 그냥 코드로 집어넣으면 된다!!\n",
    "def X_detect_outlier(sample1, sample2): \n",
    "    \n",
    "    count_x = 0\n",
    "    \n",
    "    # sample1은 직전값  / sample2는 현재값\n",
    "    pre_time = (sample1 - X_mean) / X_std\n",
    "    real_time = (sample2 - X_mean) / X_std\n",
    "    \n",
    "    detect = abs(real_time - pre_time)\n",
    "    \n",
    "    if detect > 0.3 :\n",
    "        print(\"alert\")\n",
    "        count_x += 1\n",
    "    else :\n",
    "        print(\"안전운전하세요.\")\n",
    "        \n",
    "def Y_detect_outlier(sample1, sample2): \n",
    "    \n",
    "    count_y = 0\n",
    "    \n",
    "    # sample1은 직전값  / sample2는 현재값\n",
    "    pre_time = (sample1 - Y_mean) / Y_std\n",
    "    real_time = (sample2 - Y_mean) / Y_std\n",
    "    \n",
    "    detect = abs(real_time - pre_time)\n",
    "    \n",
    "    if detect > 0.3 :\n",
    "        print(\"alert\")\n",
    "        count_y += 1\n",
    "    else :\n",
    "        print(\"안전운전하세요.\")\n",
    "\n",
    "        \n",
    "# 배달완료 후 마지막에 count를 더해야 함\n",
    "count = count_x + count_y"
   ]
  },
  {
   "cell_type": "markdown",
   "metadata": {},
   "source": [
    "# 주호가 카운트 하기 편하게, 아예 넣기 쉽게 만들어봅시다.\n",
    "- 해당 평균과 표준편차 등의 parameter는 주호의 자전거 데이터를 바탕으로 만든 것입니당! (자전거.csv)"
   ]
  },
  {
   "cell_type": "code",
   "execution_count": null,
   "metadata": {},
   "outputs": [],
   "source": [
    "## 이상치를 찾기 위한 변수 설정\n",
    "\n",
    "# X와 Y의 평균과 표준편차\n",
    "X_mean = -866.465565967574\n",
    "X_std = 1613.4888133990205\n",
    "Y_mean = -5726.632753235162\n",
    "Y_std = 2903.044587371531\n",
    "\n",
    "# X축 사분위 값 (각각 1분위, 4분위, 이상치 시작값)\n",
    "X_Q1 : 0.21568169367526852\n",
    "X_Q4 : 14.534962873771255\n",
    "X_outlier : 2.3601031307914444\n",
    "    \n",
    "# Y축 사분위 값 (각각 1분위, 4분위, 이상치 시작값)\n",
    "Y_Q1 : 0.17003787386015934\n",
    "Y_Q4 : 11.85046713306096\n",
    "Y_outlier : 1.775136769350455\n",
    "\n",
    "###############################################################################################\n",
    "## 여기서 부터는 이상치를 찾아내는 코드!!\n",
    "\n",
    "\n",
    "# X 변화량과 Y 변화량이 각각 커졌을 때에도, 한 번에 alert가 뜨도록 만들어봅시다.\n",
    "\n",
    "# 각 변화량을 체크할 카운트 \n",
    "count_x = 0\n",
    "count_y = 0\n",
    "\n",
    "# sample1은 직전값  / sample2는 현재값\n",
    "X_pre_time = (X_sample1 - X_mean) / X_std\n",
    "X_real_time = (X_sample2 - X_mean) / X_std\n",
    "\n",
    "detect_X_outlier = abs(X_real_time - X_pre_time)\n",
    "\n",
    "if detect_X_outlier > X_outlier :\n",
    "    print(\"alert\")\n",
    "    count_x += 1\n",
    "else :\n",
    "    pass\n",
    "\n",
    "\n",
    "# Y_sample1은 accel_y 직전값  / Y_sample2는 accel_y 현재값\n",
    "Y_pre_time = (Y_sample1 - Y_mean) / Y_std\n",
    "Y_real_time = (Y_sample2 - Y_mean) / Y_std\n",
    "\n",
    "detect_Y_outlier = abs(Y_real_time - Y_pre_time)\n",
    "\n",
    "if detect_Y_outlier > Y_outlier :\n",
    "    print(\"alert\")\n",
    "    count_y += 1\n",
    "else :\n",
    "    pass\n",
    "\n",
    "        \n",
    "# 배달완료 후 마지막에 count를 더해야 함\n",
    "count = count_x + count_y"
   ]
  },
  {
   "cell_type": "code",
   "execution_count": null,
   "metadata": {},
   "outputs": [],
   "source": [
    "# 이상치 제거 방법\n",
    "\n",
    "# http://www.databaser.net/moniwiki/wiki.php/%EC%9D%B4%EC%83%81%EC%B9%98%EC%A0%9C%EA%B1%B0%EB%B0%A9%EB%B2%95\n",
    "\n",
    "\n",
    "# 지금 접근방식은 매우 훌륭\n",
    "# 타임테이블과 축의 변화값을 5-7개씩 묶어서 변화값대로 라벨을 줄 수 있을 것 같다 (급회전, 급정거, 유턴 등 -> 시간으로 파악)\n",
    "# 하지만 지금 임계치를 설정한 것은 잘못된 것\n",
    "# outlier를 찾는 방식으로 근거를 제대로 마련해보자.\n",
    "# 사분위 수를 계산해서 찾아내는 방법이 있다."
   ]
  },
  {
   "cell_type": "markdown",
   "metadata": {},
   "source": [
    "\n"
   ]
  },
  {
   "cell_type": "code",
   "execution_count": null,
   "metadata": {},
   "outputs": [],
   "source": []
  }
 ],
 "metadata": {
  "kernelspec": {
   "display_name": "pydatavenv",
   "language": "python",
   "name": "pydatavenv"
  },
  "language_info": {
   "codemirror_mode": {
    "name": "ipython",
    "version": 3
   },
   "file_extension": ".py",
   "mimetype": "text/x-python",
   "name": "python",
   "nbconvert_exporter": "python",
   "pygments_lexer": "ipython3",
   "version": "3.7.9"
  }
 },
 "nbformat": 4,
 "nbformat_minor": 4
}
