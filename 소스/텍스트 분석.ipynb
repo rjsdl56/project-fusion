{
 "cells": [
  {
   "cell_type": "markdown",
   "metadata": {},
   "source": [
    "# 텍스트 분류분석 시도를 해봅시다"
   ]
  },
  {
   "cell_type": "markdown",
   "metadata": {},
   "source": [
    "### 우선 판단용 간단한 함수를 만들어보자\n",
    "\n",
    "만들어야 하는 목록 :\n",
    "1. wake up word\n",
    "2. 운행시작\n",
    "3. 배차수락\n",
    "4. 배차취소\n",
    "5. 가게전화\n",
    "6. 가게도착\n",
    "7. 주문번호 확인\n",
    "8. 픽업완료\n",
    "9. 소요시간 선택\n",
    "10. 배달지연 입력\n",
    "11. 고객전화\n",
    "12. 요청사항 확인\n",
    "13. 배달완료"
   ]
  },
  {
   "cell_type": "code",
   "execution_count": null,
   "metadata": {},
   "outputs": [],
   "source": [
    "# 모듈 모음\n",
    "\n",
    "import pandas as pd\n",
    "import numpy as np \n",
    "import matplotlib.pyplot as plt \n",
    "import re                            \n",
    "\n",
    "from konlpy.tag import Kkma            # 꼬꼬마 : 형태소 분석기 중 하나\n",
    "from konlpy.utils import pprint        # pprint : 코드 이쁘게 출력하기\n",
    "from konlpy.tag import Hannanum        # 한나눔 : 형태소 분석기, 그리 성능이 좋아보이진 않음\n",
    "from konlpy.tag import Okt             # okt : 줄임말, 신조어 등에 탁월한 분석\n",
    "from konlpy.tag import Komoran         # 코모란 : 동사의 원형을 파악하는데 좋을 듯\n",
    "from wordcloud import WordCloud        # 워드클라우드\n",
    "from wordcloud import STOPWORDS        # 불용어 만들기\n",
    "import nltk                            # 한국어 자연어처리 모듈 / 공문서 대상으로 작업하기 편함\n",
    "from pykospacing import spacing        # PyKoSpacing은 띄어쓰기가 되어있지 않은 문장을 띄어쓰기를 한 문장으로 변환해주는 패키지\n",
    "from hanspell import spell_checker     # Py-Hanspell은 맞춤법을 맞춰 변환하는 패키지\n",
    "import hgtk                            # 한글의 자음과 모음을 분리하는 모듈\n"
   ]
  },
  {
   "cell_type": "markdown",
   "metadata": {},
   "source": [
    "# wake up word"
   ]
  },
  {
   "cell_type": "code",
   "execution_count": 21,
   "metadata": {},
   "outputs": [
    {
     "name": "stdout",
     "output_type": "stream",
     "text": [
      "무엇을 도와드릴까요?\n",
      "True\n",
      "False\n"
     ]
    }
   ],
   "source": [
    "# 아마 따로 있을 거 같기는 한데, 일단 인식 자체는 쉬울 듯용 \n",
    "# 문제는 인식 전까지 시간재기, 서버하고 연결하기 등등\n",
    "# 음성이 틀린 것과 음성이 입력되지 않는 것을 어떻게 판단? -> 정답 옳고 그른 것을 boolin으로 주면, 잘못 인식한 값은 어쩔\n",
    "\n",
    "# 참고사이트\n",
    "# https://github.com/LeadingIndiaAI/Wake-UP-word-detection\n",
    "# https://github.com/Picovoice/porcupine\n",
    "\n",
    "\n",
    "# 완성본 아님 // 기본적인 마인드셋 정도로만 참고\n",
    "# 정답이 존재하고, input 값이 텍스트로 변환된 값과 일치한다면 True 로 판단 -> 이후 운행 시작 버튼으로 전달\n",
    "import pandas as pd\n",
    "from konlpy.tag import Okt\n",
    "\n",
    "def wakeupword(sample):\n",
    "    correct_answer = ['헬라', '헤라', '핼라', '해라', '훼라', '헬러', '헬로', '핼로', '해러', '헤러', '엘라', '에라']\n",
    "    okt = Okt()\n",
    "    input_answer = okt.nouns(sample)\n",
    "    \n",
    "    for input_answer_series in input_answer:\n",
    "        if input_answer_series in correct_answer:\n",
    "            print(\"무엇을 도와드릴까요?\") # 이후 다른 서비스 연결\n",
    "            return True\n",
    "        else :\n",
    "            return False\n",
    "\n",
    "        \n",
    "test = \"헬라\"\n",
    "print(wakeupword(test))\n",
    "\n",
    "test1 = \"야 임마\"\n",
    "print(wakeupword(test1))"
   ]
  },
  {
   "cell_type": "markdown",
   "metadata": {},
   "source": [
    "# ================================================"
   ]
  },
  {
   "cell_type": "markdown",
   "metadata": {},
   "source": [
    "# 운행시작을 판단해보자!!"
   ]
  },
  {
   "cell_type": "code",
   "execution_count": 22,
   "metadata": {},
   "outputs": [],
   "source": [
    "import pandas as pd\n",
    "from konlpy.tag import Okt\n",
    "\n",
    "\n",
    "def drive_start(sample):\n",
    "    correct_answer = ['운행시작', '운행', '시작']\n",
    "    okt = Okt()\n",
    "    input_answer = okt.nouns(sample)\n",
    "    \n",
    "    for input_answer_series in input_answer:\n",
    "        if input_answer_series in correct_answer:\n",
    "            print(\"여기에 운행 서비스를 연결해주는 코드를 집어넣자!\")\n",
    "            return True\n",
    "        else :\n",
    "            return False\n",
    "        "
   ]
  },
  {
   "cell_type": "code",
   "execution_count": 23,
   "metadata": {},
   "outputs": [
    {
     "name": "stdout",
     "output_type": "stream",
     "text": [
      "여기에 운행 서비스를 연결해주는 코드를 집어넣자!\n",
      "True\n",
      "False\n"
     ]
    }
   ],
   "source": [
    "test = '운행 시작 합니당!'\n",
    "print(drive_start(test))\n",
    "\n",
    "test1 = '집에 가고 싶어요'\n",
    "print(drive_start(test1))"
   ]
  },
  {
   "cell_type": "code",
   "execution_count": 9,
   "metadata": {},
   "outputs": [
    {
     "data": {
      "text/plain": [
       "False"
      ]
     },
     "execution_count": 9,
     "metadata": {},
     "output_type": "execute_result"
    }
   ],
   "source": []
  },
  {
   "cell_type": "code",
   "execution_count": null,
   "metadata": {},
   "outputs": [],
   "source": []
  },
  {
   "cell_type": "markdown",
   "metadata": {},
   "source": [
    "# 동시에 2개 값을 추출해낼 수 있는가? -> 픽업과 배달소요시간"
   ]
  },
  {
   "cell_type": "code",
   "execution_count": null,
   "metadata": {},
   "outputs": [],
   "source": []
  },
  {
   "cell_type": "code",
   "execution_count": null,
   "metadata": {},
   "outputs": [],
   "source": []
  },
  {
   "cell_type": "code",
   "execution_count": null,
   "metadata": {},
   "outputs": [],
   "source": []
  },
  {
   "cell_type": "code",
   "execution_count": null,
   "metadata": {},
   "outputs": [],
   "source": []
  },
  {
   "cell_type": "code",
   "execution_count": null,
   "metadata": {},
   "outputs": [],
   "source": []
  }
 ],
 "metadata": {
  "kernelspec": {
   "display_name": "pydatavenv",
   "language": "python",
   "name": "pydatavenv"
  },
  "language_info": {
   "codemirror_mode": {
    "name": "ipython",
    "version": 3
   },
   "file_extension": ".py",
   "mimetype": "text/x-python",
   "name": "python",
   "nbconvert_exporter": "python",
   "pygments_lexer": "ipython3",
   "version": "3.7.9"
  }
 },
 "nbformat": 4,
 "nbformat_minor": 4
}
