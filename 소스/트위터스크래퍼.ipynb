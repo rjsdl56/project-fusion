{
 "cells": [
  {
   "cell_type": "markdown",
   "metadata": {},
   "source": [
    "### twitter scarper"
   ]
  },
  {
   "cell_type": "code",
   "execution_count": 5,
   "metadata": {},
   "outputs": [
    {
     "data": {
      "text/html": [
       "<div>\n",
       "<style scoped>\n",
       "    .dataframe tbody tr th:only-of-type {\n",
       "        vertical-align: middle;\n",
       "    }\n",
       "\n",
       "    .dataframe tbody tr th {\n",
       "        vertical-align: top;\n",
       "    }\n",
       "\n",
       "    .dataframe thead th {\n",
       "        text-align: right;\n",
       "    }\n",
       "</style>\n",
       "<table border=\"1\" class=\"dataframe\">\n",
       "  <thead>\n",
       "    <tr style=\"text-align: right;\">\n",
       "      <th></th>\n",
       "      <th>tweet_time</th>\n",
       "      <th>tweet_text</th>\n",
       "    </tr>\n",
       "  </thead>\n",
       "  <tbody>\n",
       "  </tbody>\n",
       "</table>\n",
       "</div>"
      ],
      "text/plain": [
       "Empty DataFrame\n",
       "Columns: [tweet_time, tweet_text]\n",
       "Index: []"
      ]
     },
     "metadata": {},
     "output_type": "display_data"
    }
   ],
   "source": [
    "import datetime\n",
    "from twitterscraper import query_tweets\n",
    "import pandas as pd\n",
    "\n",
    "list_of_tweets = query_tweets('배민커넥트', begindate=datetime.date(2020,10,1), enddate=datetime.date(2020,11,20), limit=500)\n",
    "\n",
    "columns = ['tweet_time', 'tweet_text']\n",
    "df = pd.DataFrame(columns=columns)\n",
    "\n",
    "for tweet in list_of_tweets:\n",
    "    tweet_text = tweet.text\n",
    "    tweet_time = tweet.timestamp\n",
    "    row = [tweet_time, tweet_text]\n",
    "    series = pd.Series(row, index=df.columns)\n",
    "    df = df.append(series, ignore_index=True)\n",
    "    \n",
    "display(df)"
   ]
  },
  {
   "cell_type": "code",
   "execution_count": 9,
   "metadata": {},
   "outputs": [
    {
     "name": "stdout",
     "output_type": "stream",
     "text": [
      "29\n",
      "30.417330980300903\n"
     ]
    }
   ],
   "source": [
    "from twitterscraper import query_tweets\n",
    "import datetime as dt\n",
    "import time\n",
    "\n",
    "# for i in range(1,19):\n",
    "result = pd.DataFrame(columns=['text','time'])\n",
    "if __name__ == '__main__':\n",
    "\n",
    "    tmp1=[]\n",
    "    tmp2=[]\n",
    "    start=time.time()\n",
    "\n",
    "    for tweet in query_tweets('배민커넥트', begindate=dt.date(2020,11,18), enddate=dt.date(2020,11,20)):\n",
    "        tmp1.append(tweet.text)\n",
    "        tmp2.append(tweet.timestamp)\n",
    "\n",
    "    result['text'] = tmp1\n",
    "    result['time'] = tmp2\n",
    "    result.to_excel('배민커넥트_2020_11_{}.xlsx')\n",
    "    del result\n",
    "    print(i)\n",
    "    print(time.time()-start)"
   ]
  },
  {
   "cell_type": "code",
   "execution_count": 8,
   "metadata": {},
   "outputs": [],
   "source": [
    "import datetime\n",
    "from twitterscraper import query_tweets\n",
    "\n",
    "list_of_tweets = query_tweets('배민커넥터', begindate=datetime.date(2020,11,18), enddate=datetime.date(2020,11,20), limit=10)\n",
    "\n",
    "for tweet in list_of_tweets:\n",
    "    print(\"screen_name: \"+tweet.screen_name) #사용자아이디\n",
    "    print(\"username: \"+tweet.username) #닉네임\n",
    "    print(\"timestamp: \"+str(tweet.timestamp)) #날짜\n",
    "    print(\"text: \"+tweet.text) #트윗내용"
   ]
  },
  {
   "cell_type": "code",
   "execution_count": null,
   "metadata": {},
   "outputs": [],
   "source": []
  }
 ],
 "metadata": {
  "kernelspec": {
   "display_name": "pydatavenv",
   "language": "python",
   "name": "pydatavenv"
  },
  "language_info": {
   "codemirror_mode": {
    "name": "ipython",
    "version": 3
   },
   "file_extension": ".py",
   "mimetype": "text/x-python",
   "name": "python",
   "nbconvert_exporter": "python",
   "pygments_lexer": "ipython3",
   "version": "3.7.9"
  }
 },
 "nbformat": 4,
 "nbformat_minor": 4
}
