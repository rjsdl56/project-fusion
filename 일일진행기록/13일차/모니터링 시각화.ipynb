{
 "cells": [
  {
   "cell_type": "markdown",
   "metadata": {},
   "source": [
    "# 시간대별 평균주문금액 (강남구)"
   ]
  },
  {
   "cell_type": "code",
   "execution_count": 1,
   "metadata": {},
   "outputs": [],
   "source": [
    "# 배민에게 줘야할 것 --> 시간별 평균금액\n",
    "# 시간-지역별 배달 평균주문금액\n",
    "import pandas as pd\n",
    "from datetime import datetime\n",
    "\n",
    "def delivery_pay_expect():\n",
    "    # 데이터 불러오기\n",
    "    delivery_time_pay_mean = pd.read_csv('./data/delivery/시간-지역별 배달 평균주문금액.csv', header=None)\n",
    "    delivery_time_pay_mean.columns = ['날짜', '시간', '도', '구', '평균주문금액']\n",
    "\n",
    "    # 서울특별시만 걸러내기\n",
    "    delivery_time_pay_mean = delivery_time_pay_mean.groupby('도')\n",
    "    df = delivery_time_pay_mean.get_group('서울특별시')\n",
    "\n",
    "    # 시간별 구분하자 -> 날짜 컬럼 삭제\n",
    "    df.drop(df.columns[0], axis=1, inplace=True)\n",
    "\n",
    "\n",
    "    # 현재 시간 불러오기\n",
    "    i = datetime.today().hour\n",
    "\n",
    "    # 시간별로 묶기\n",
    "    time_zero = df.groupby('시간')\n",
    "    time_zero = time_zero.get_group(i)\n",
    "\n",
    "    # 구 별로 묶기\n",
    "    gangnam = time_zero.groupby('구')\n",
    "    gangnam = gangnam.get_group('강남구')\n",
    "    # display(gangnam)\n",
    "\n",
    "    # 예상 주문건수 --> 지금까지 있었던 모든 날짜의 평균금액을 더한 뒤 평균 값을 전달 / 100원 단위\n",
    "    return \"강남구 \" + str(i) + \"시 평균주문금액 :\" + str(gangnam['평균주문금액'].mean().round(-2)) + \"원\""
   ]
  },
  {
   "cell_type": "code",
   "execution_count": 3,
   "metadata": {},
   "outputs": [
    {
     "name": "stderr",
     "output_type": "stream",
     "text": [
      "C:\\Users\\parkgun\\anaconda3\\envs\\pydatavenv\\lib\\site-packages\\pandas\\core\\frame.py:4170: SettingWithCopyWarning: \n",
      "A value is trying to be set on a copy of a slice from a DataFrame\n",
      "\n",
      "See the caveats in the documentation: https://pandas.pydata.org/pandas-docs/stable/user_guide/indexing.html#returning-a-view-versus-a-copy\n",
      "  errors=errors,\n"
     ]
    },
    {
     "data": {
      "text/plain": [
       "'강남구 10시 평균주문금액 :28000.0원'"
      ]
     },
     "execution_count": 3,
     "metadata": {},
     "output_type": "execute_result"
    }
   ],
   "source": [
    "delivery_pay_expect()"
   ]
  },
  {
   "cell_type": "markdown",
   "metadata": {},
   "source": [
    "# 시간대별 배달에 걸리는 시간 (강남구)"
   ]
  },
  {
   "cell_type": "code",
   "execution_count": 4,
   "metadata": {},
   "outputs": [],
   "source": [
    "# 배민에게 줘야할 것 --> 시간별 배달에 걸리는 시간 // 필요한가?\n",
    "# 시간-지역별 배달 소요시간평균\n",
    "import pandas as pd\n",
    "from datetime import datetime\n",
    "\n",
    "\n",
    "def delivery_time_expect() :\n",
    "    # 데이터 불러오기\n",
    "    delivery_time_mean = pd.read_csv('./data/delivery/시간-지역별 배달 소요시간평균.csv', header=None)\n",
    "    delivery_time_mean.columns = ['날짜', '시간', '시', '구', '평균시간']\n",
    "\n",
    "    # 서울특별시만 걸러내기\n",
    "    delivery_time_mean = delivery_time_mean.groupby('시')\n",
    "    df = delivery_time_mean.get_group('서울특별시')\n",
    "\n",
    "    # 시간별 구분하자 -> 날짜 컬럼 삭제\n",
    "    df.drop(df.columns[0], axis=1, inplace=True)\n",
    "\n",
    "    # 현재 시간 불러오기\n",
    "    i = datetime.today().hour\n",
    "\n",
    "    # 시간별로 묶기\n",
    "    time_zero = df.groupby('시간')\n",
    "    time_zero = time_zero.get_group(i)\n",
    "\n",
    "    # 구 별로 묶기\n",
    "    gangnam = time_zero.groupby('구')\n",
    "    gangnam = gangnam.get_group('강남구')\n",
    "\n",
    "    # 예상 주문건수 --> 지금까지 있었던 모든 날짜의 평균시간을 더한 뒤 평균 값을 전달\n",
    "    return \"강남구 \" + str(i) + \"시 평균배달시간 :\" + str(gangnam['평균시간'].mean().round(1)) + \"분\"\n"
   ]
  },
  {
   "cell_type": "code",
   "execution_count": 5,
   "metadata": {},
   "outputs": [
    {
     "data": {
      "text/plain": [
       "'강남구 10시 평균배달시간 :21.2분'"
      ]
     },
     "execution_count": 5,
     "metadata": {},
     "output_type": "execute_result"
    }
   ],
   "source": [
    "delivery_time_expect()"
   ]
  },
  {
   "cell_type": "code",
   "execution_count": null,
   "metadata": {},
   "outputs": [],
   "source": []
  }
 ],
 "metadata": {
  "kernelspec": {
   "display_name": "pydatavenv",
   "language": "python",
   "name": "pydatavenv"
  },
  "language_info": {
   "codemirror_mode": {
    "name": "ipython",
    "version": 3
   },
   "file_extension": ".py",
   "mimetype": "text/x-python",
   "name": "python",
   "nbconvert_exporter": "python",
   "pygments_lexer": "ipython3",
   "version": "3.7.9"
  }
 },
 "nbformat": 4,
 "nbformat_minor": 4
}
