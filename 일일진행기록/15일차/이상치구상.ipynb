{
 "cells": [
  {
   "cell_type": "markdown",
   "metadata": {},
   "source": [
    "# WHY?"
   ]
  },
  {
   "cell_type": "markdown",
   "metadata": {},
   "source": [
    "# 홍동표 멘토님 공유 링크\n",
    "https://dbr.donga.com/article/view/1203/article_no/7784\n",
    "\n",
    "### 보험회사 정리\n",
    "#### 1. 보험회사는 기본적으로 보험료를 받아서 회사를 운용, 가입자에게 발생한 의료비를 제공\n",
    "#### 2. 최근 저금리가 이어지며 투자운용수익을 높이는 것이 힘들어졌음\n",
    "#### 3. 때문에 의료비 제공을 절감하는 것에 초점이 맞춰짐\n",
    "#### 4. 그 방법은 크게 2가지\n",
    "#### 5. 의료비 제공 사건을 줄이던가, 의료비 효율을 높이던가\n",
    "#### 6. 이때 효과가 큰 것은 의료비 제공하는 이벤트 자체를 줄이는 것!!\n",
    "#### 7. 문제는 어떻게 줄일 것인가? -> 그게 라이더 센서측정으로 가야 함"
   ]
  },
  {
   "cell_type": "markdown",
   "metadata": {},
   "source": [
    "# WHAT?"
   ]
  },
  {
   "cell_type": "markdown",
   "metadata": {},
   "source": [
    "## 이상치를 감지해내는 시스템\n",
    "### 보험회사에게 등급별 보험료를 다르게 받을 수 있는 근거를 마련해주자\n",
    "\n",
    "### 1. 센서변화량이 큰 사람을 잡아내자\n",
    "- 현재값과 직전값을 빼서 변화량이 큰 사람을 잡아내자\n",
    "- 특정값 이상이면 이상치 표시\n",
    "\n",
    "### 2. 센서변화량이 극단적으로 적거나, 규칙적인 사람도 잡아내자\n",
    "- 센서변화량이 적은 경우가 극단적으로 많이 잡히는 경우\n",
    "- 센서변화량이 규칙적으로 같은 값이 발생하는 경우 (이건 AI측에게 물어봐야할 듯)\n"
   ]
  },
  {
   "cell_type": "markdown",
   "metadata": {},
   "source": [
    "# HOW?"
   ]
  },
  {
   "cell_type": "markdown",
   "metadata": {},
   "source": [
    "## 하지만 라이더들이 과연 센서를 단다고 해서 좋은 점이 뭐가 있는가?\n",
    "### 이들을 위한 인센티브가 필요하다\n",
    "\n",
    "\n",
    "### 1. wechat의 werun 과 같은 경쟁 시스템을 통해 순위를 나누고, 이를 기준으로 포상?\n",
    "#### 무신사처럼 등급별 보험료 할인 혜택\n",
    "- 어떻게 마일리지를 쌓을 것인가?\n",
    "- 데이터를 저장하는 구조를 만들어야 할 것 같다.\n",
    "- 카운팅을 어떻게 할 건데? ==> 데이터저장구조를 생각해봐야 할 것 같다.\n",
    "- 할인보다 환급구조로 가면 회사가 힘들까? ==> 직접적으로 돈을 주는 것을 더 좋아할 것 같다.\n",
    "\n",
    "#### 순위별 1등에게 포상을 전달\n",
    "- 경쟁구도를 만든다? ==> 라이더별로 일일 순위를 확인할 수 있게? \n",
    "- 연단위, 분기단위, 월단위, 일단위?\n",
    "- 전문적으로 배달하는 라이더에게만 해당되는 사항인가?\n"
   ]
  },
  {
   "cell_type": "code",
   "execution_count": null,
   "metadata": {},
   "outputs": [],
   "source": []
  }
 ],
 "metadata": {
  "kernelspec": {
   "display_name": "pydatavenv",
   "language": "python",
   "name": "pydatavenv"
  },
  "language_info": {
   "codemirror_mode": {
    "name": "ipython",
    "version": 3
   },
   "file_extension": ".py",
   "mimetype": "text/x-python",
   "name": "python",
   "nbconvert_exporter": "python",
   "pygments_lexer": "ipython3",
   "version": "3.7.9"
  }
 },
 "nbformat": 4,
 "nbformat_minor": 4
}
